{
 "cells": [
  {
   "cell_type": "markdown",
   "id": "8e748a59",
   "metadata": {},
   "source": [
    "# WEEK 1 CHALLENGE"
   ]
  },
  {
   "cell_type": "markdown",
   "id": "6fa7aec4",
   "metadata": {},
   "source": [
    "### 1. Create a program that displays your name and complete mailing address formatted in the manner that you would usually see it on the outside of an envelope. Your program does not need to read any input from the user."
   ]
  },
  {
   "cell_type": "code",
   "execution_count": 1,
   "id": "4265b668",
   "metadata": {},
   "outputs": [
    {
     "name": "stdout",
     "output_type": "stream",
     "text": [
      "ANTHONY GONJALWIS\n",
      "DR NEMADE LANE,\n",
      "OLD DOMBIVLI ROAD,\n",
      "DOMBIVLI,\n",
      "MAHARASHTRA- 421202,\n",
      "INDIA,\n",
      "Phone: 1234567891\n"
     ]
    }
   ],
   "source": [
    "\n",
    "print(\"ANTHONY GONJALWIS\")\n",
    "print(\"DR NEMADE LANE,\")\n",
    "print(\"OLD DOMBIVLI ROAD,\")\n",
    "print(\"DOMBIVLI,\")\n",
    "print(\"MAHARASHTRA- 421202,\")\n",
    "print(\"INDIA,\")\n",
    "print(\"Phone: 1234567891\")"
   ]
  },
  {
   "cell_type": "markdown",
   "id": "bea31be9",
   "metadata": {},
   "source": [
    "### 2.Write a program that asks the user to enter his or her name. The program should respond with a message that says hello to the user, using his or her name"
   ]
  },
  {
   "cell_type": "code",
   "execution_count": 2,
   "id": "da24019e",
   "metadata": {},
   "outputs": [
    {
     "name": "stdout",
     "output_type": "stream",
     "text": [
      "Enter Your Name: hj\n",
      "Hello hj\n"
     ]
    }
   ],
   "source": [
    "Name=str(input(\"Enter Your Name: \"))\n",
    "print(\"Hello\",Name)"
   ]
  },
  {
   "cell_type": "markdown",
   "id": "597b3ef2",
   "metadata": {},
   "source": [
    "### 3.Write a program that accepts radius (datatype : float) of a circle from the user. Calculate and display the area and circumference of the circle"
   ]
  },
  {
   "cell_type": "code",
   "execution_count": 3,
   "id": "80ce06d1",
   "metadata": {},
   "outputs": [
    {
     "name": "stdout",
     "output_type": "stream",
     "text": [
      "Radius of circle is45\n",
      "Area of circle is 6358.500000000001\n",
      "circumference of circle is 282.6\n"
     ]
    }
   ],
   "source": [
    "radius=float(input(\"Radius of circle is\"))\n",
    "area = 3.14*radius*radius\n",
    "circum = 2*3.14*radius\n",
    "print(\"Area of circle is\",area)\n",
    "print(\"circumference of circle is\",circum)\n"
   ]
  },
  {
   "cell_type": "markdown",
   "id": "9d93a535",
   "metadata": {},
   "source": [
    "### 4.Write a program that accepts length and breadth (both float) of a rectangle from the user. Calculate and display the area and perimeter of the rectangle"
   ]
  },
  {
   "cell_type": "code",
   "execution_count": 4,
   "id": "c8b2dd2b",
   "metadata": {},
   "outputs": [
    {
     "name": "stdout",
     "output_type": "stream",
     "text": [
      "Enter length: 45\n",
      "Enter breadth: 78\n",
      "Area =  3510.0\n",
      "Perimeter =  246.0\n"
     ]
    }
   ],
   "source": [
    "\n",
    "l = float(input(\"Enter length: \")) \n",
    "b = float(input(\"Enter breadth: \")) \n",
    "area = (l * b)\n",
    "perimeter = (2 * (l + b))\n",
    "print (\"Area = \", area)\n",
    "print (\"Perimeter = \", perimeter)\n"
   ]
  },
  {
   "cell_type": "markdown",
   "id": "5d6aa196",
   "metadata": {},
   "source": [
    "### 5.Write a program to accept the side (datatype : float) of a square from the user. Calculate and display the area and perimeter of the square"
   ]
  },
  {
   "cell_type": "code",
   "execution_count": 5,
   "id": "52dc6ab1",
   "metadata": {},
   "outputs": [
    {
     "name": "stdout",
     "output_type": "stream",
     "text": [
      "Side of square : 45\n",
      "Area of square :  2025.0\n",
      "Perimeter of square :  180.0\n"
     ]
    }
   ],
   "source": [
    "s=float(input(\"Side of square : \"))\n",
    "area=s*s\n",
    "perimeter=4*s\n",
    "print(\"Area of square : \",area)\n",
    "print(\"Perimeter of square : \",perimeter)"
   ]
  },
  {
   "cell_type": "markdown",
   "id": "fb540faf",
   "metadata": {},
   "source": [
    "### 6. Write a program to accept the temperature (datatype : float) in Fahrenheit and convert it into Centigrade. Modify the program to accept the temperature in Centigrade and convert it into Fahrenheit"
   ]
  },
  {
   "cell_type": "code",
   "execution_count": 6,
   "id": "fd393610",
   "metadata": {},
   "outputs": [
    {
     "name": "stdout",
     "output_type": "stream",
     "text": [
      "Enter temperature in celcius: 56\n",
      "Temperature in Fahrenheit is:  132.8\n"
     ]
    }
   ],
   "source": [
    "cls = float(input(\"Enter temperature in celcius: \"))\n",
    "fht = (cls * 9/5) + 32\n",
    "print(\"Temperature in Fahrenheit is: \",fht)\n"
   ]
  },
  {
   "cell_type": "code",
   "execution_count": 7,
   "id": "f36f81af",
   "metadata": {},
   "outputs": [
    {
     "name": "stdout",
     "output_type": "stream",
     "text": [
      "Enter the temperature in Fahrenheit: 56\n",
      "Temperature in degree Celsius is:  13.333333333333334\n"
     ]
    }
   ],
   "source": [
    "fht=float(input(\"Enter the temperature in Fahrenheit: \"))\n",
    "cls=5*(fht-32)/9\n",
    "print(\"Temperature in degree Celsius is: \",cls)\n"
   ]
  },
  {
   "cell_type": "markdown",
   "id": "3dab0e7a",
   "metadata": {},
   "source": [
    "### 7.Write a program to accept two complex numbers. Perform addition, subtraction and multiplication of these numbers an display the results to the user."
   ]
  },
  {
   "cell_type": "code",
   "execution_count": 8,
   "id": "23a4a68e",
   "metadata": {},
   "outputs": [
    {
     "name": "stdout",
     "output_type": "stream",
     "text": [
      "First Complex Number: 48\n",
      "Second Complex Number: 78\n",
      "Sum of both the Complex number is (126+0j)\n"
     ]
    }
   ],
   "source": [
    "c1 = complex(input(\"First Complex Number: \"))\n",
    "c2 = complex(input(\"Second Complex Number: \"))\n",
    "print(\"Sum of the Complex number is\", c1 + c2)"
   ]
  },
  {
   "cell_type": "code",
   "execution_count": 9,
   "id": "8353ff50",
   "metadata": {},
   "outputs": [
    {
     "name": "stdout",
     "output_type": "stream",
     "text": [
      "First Complex Number: 45\n",
      "Second Complex Number: 45\n",
      "Substaction of both the Complex number is 0j\n"
     ]
    }
   ],
   "source": [
    "c1 = complex(input(\"First Complex Number: \"))\n",
    "c2 = complex(input(\"Second Complex Number: \"))\n",
    "print(\"Substaction of the Complex number is\", c1 - c2)"
   ]
  },
  {
   "cell_type": "code",
   "execution_count": 10,
   "id": "0072e375",
   "metadata": {},
   "outputs": [
    {
     "name": "stdout",
     "output_type": "stream",
     "text": [
      "First Complex Number: 45\n",
      "Second Complex Number: 45\n",
      "multiplication of both the Complex number is (2025+0j)\n"
     ]
    }
   ],
   "source": [
    "c1 = complex(input(\"First Complex Number: \"))\n",
    "c2 = complex(input(\"Second Complex Number: \"))\n",
    "print(\"multiplication of the Complex number is\", c1 * c2)"
   ]
  },
  {
   "cell_type": "markdown",
   "id": "1ea3a9e6",
   "metadata": {},
   "source": [
    "### 8. Write a program to accept the name and basic salary (datatype : float) of an employee. Calculate the dearness allowance as 40 % of basic and house rent allowance as 20 % of basic. Display the gross salary to the user. (Hint: gross salary = basic salary + dearness allowance + house rent allowance)"
   ]
  },
  {
   "cell_type": "code",
   "execution_count": 2,
   "id": "7d30c55a",
   "metadata": {},
   "outputs": [
    {
     "name": "stdout",
     "output_type": "stream",
     "text": [
      "kim\n",
      "Insert Your Basic Salary in Rs : 45000\n",
      "On the basis of Basic Salary You will get: \n",
      "Dearness Allowance =  18000.0 Rs\n",
      "House Rent Allowance =  9000.0 Rs\n",
      "\n",
      "Your gross Pay =  72000.0 Rs\n"
     ]
    }
   ],
   "source": [
    "\n",
    "Name=input()\n",
    "S=float(input('Insert Your Basic Salary in Rs : '))\n",
    "print('On the basis of Basic Salary You will get: ')\n",
    "D=S*0.40\n",
    "print('Dearness Allowance = ',D,'Rs')\n",
    "H=S*0.20\n",
    "print('House Rent Allowance = ',H,'Rs')\n",
    "print( )\n",
    "gross =S+D+H\n",
    "print('Your gross Pay = ',gross,'Rs')"
   ]
  },
  {
   "cell_type": "markdown",
   "id": "6ae3f9ea",
   "metadata": {},
   "source": [
    "### 9. Write a program that reads a positive integer, n, from the user and then displays the sum of all of the integers from 1 to n. The sum of the first n positive integers can be computed using the formula: sum = (n)(n + 1)/ 2\n",
    "\n"
   ]
  },
  {
   "cell_type": "code",
   "execution_count": 12,
   "id": "d0795468",
   "metadata": {},
   "outputs": [
    {
     "name": "stdout",
     "output_type": "stream",
     "text": [
      "Enter a positive integer: 45\n",
      "The sum of the first 45 positive integers is 1035.0\n"
     ]
    }
   ],
   "source": [
    "n = int(input(\"Enter a positive integer: \"))\n",
    "SUM= n * (n+1) / 2\n",
    "print(\"The sum of the first\",n,\"positive integers is\",SUM)"
   ]
  },
  {
   "cell_type": "markdown",
   "id": "373ea8cf",
   "metadata": {},
   "source": [
    "### 10. Create a program that reads two integers, a and b, from the user. Your program should compute and display:\n",
    "\"\"\"1.The sum of a and b\n",
    "\n",
    "2.The difference when b is subtracted from a\n",
    "\n",
    "3.The product of a and b\n",
    "\n",
    "4.The quotient when a is divided by b\n",
    "\n",
    "5.The remainder when a is divided by b\n",
    "\n",
    "6.The result of ab\"\"\""
   ]
  },
  {
   "cell_type": "code",
   "execution_count": 13,
   "id": "a6571dd8",
   "metadata": {},
   "outputs": [
    {
     "name": "stdout",
     "output_type": "stream",
     "text": [
      "Enter the value of a: 45\n",
      "Enter the value of b: 45\n",
      "45 + 45 is 90\n"
     ]
    }
   ],
   "source": [
    "a = int (input (\"Enter the value of a: \")) \n",
    "b = int (input (\"Enter the value of b: \")) \n",
    "print (a, \"+\", b, \"is\", a + b) "
   ]
  },
  {
   "cell_type": "code",
   "execution_count": 14,
   "id": "2cab0c6e",
   "metadata": {},
   "outputs": [
    {
     "name": "stdout",
     "output_type": "stream",
     "text": [
      "Enter the value of a: 45\n",
      "Enter the value of b: 45\n",
      "45 - 45 is 0\n"
     ]
    }
   ],
   "source": [
    "a = int (input (\"Enter the value of a: \")) \n",
    "b = int (input (\"Enter the value of b: \")) \n",
    "print (a, \"-\", b, \"is\", a - b)   "
   ]
  },
  {
   "cell_type": "code",
   "execution_count": 15,
   "id": "7a8c9fc1",
   "metadata": {},
   "outputs": [
    {
     "name": "stdout",
     "output_type": "stream",
     "text": [
      "Enter the value of a: 45\n",
      "Enter the value of b: 45\n",
      "45 * 45 is 2025\n"
     ]
    }
   ],
   "source": [
    "a = int (input (\"Enter the value of a: \")) \n",
    "b = int (input (\"Enter the value of b: \")) \n",
    "print (a,\"*\", b, \"is\", a*b) "
   ]
  },
  {
   "cell_type": "code",
   "execution_count": 16,
   "id": "0a02d5ce",
   "metadata": {},
   "outputs": [
    {
     "name": "stdout",
     "output_type": "stream",
     "text": [
      "Enter the value of a: 45\n",
      "Enter the value of b: 45\n",
      "45 / 45 is 1.0\n"
     ]
    }
   ],
   "source": [
    "a = int (input (\"Enter the value of a: \")) \n",
    "b = int (input (\"Enter the value of b: \")) \n",
    "print (a, \"/\", b, \"is\", a / b) "
   ]
  },
  {
   "cell_type": "code",
   "execution_count": 17,
   "id": "89df45ec",
   "metadata": {},
   "outputs": [
    {
     "name": "stdout",
     "output_type": "stream",
     "text": [
      "Enter the value of a: 45\n",
      "Enter the value of b: 45\n",
      "45 % 45 is 0\n"
     ]
    }
   ],
   "source": [
    "a = int (input (\"Enter the value of a: \")) \n",
    "b = int (input (\"Enter the value of b: \")) \n",
    "print (a, \"%\", b, \"is\", a % b) "
   ]
  },
  {
   "cell_type": "code",
   "execution_count": 18,
   "id": "38f18dcf",
   "metadata": {},
   "outputs": [
    {
     "name": "stdout",
     "output_type": "stream",
     "text": [
      "Enter the value of a: 23\n",
      "Enter the value of b: 56\n",
      "23 ^ 56 is 18061708005752857061620870906539210750802836284237842525970767008798325863361\n"
     ]
    }
   ],
   "source": [
    "a = int (input (\"Enter the value of a: \")) \n",
    "b = int (input (\"Enter the value of b: \")) \n",
    "print (a, \"^\", b, \"is\", a ** b) \n"
   ]
  },
  {
   "cell_type": "code",
   "execution_count": null,
   "id": "ec5de2f2",
   "metadata": {},
   "outputs": [],
   "source": []
  },
  {
   "cell_type": "code",
   "execution_count": null,
   "id": "73cd35df",
   "metadata": {},
   "outputs": [],
   "source": []
  },
  {
   "cell_type": "code",
   "execution_count": null,
   "id": "400ef268",
   "metadata": {},
   "outputs": [],
   "source": []
  },
  {
   "cell_type": "code",
   "execution_count": null,
   "id": "6f009023",
   "metadata": {},
   "outputs": [],
   "source": []
  },
  {
   "cell_type": "code",
   "execution_count": null,
   "id": "7280dd40",
   "metadata": {},
   "outputs": [],
   "source": []
  },
  {
   "cell_type": "code",
   "execution_count": null,
   "id": "52598fdc",
   "metadata": {},
   "outputs": [],
   "source": []
  },
  {
   "cell_type": "code",
   "execution_count": null,
   "id": "8d444ac2",
   "metadata": {},
   "outputs": [],
   "source": []
  },
  {
   "cell_type": "code",
   "execution_count": null,
   "id": "40c7e343",
   "metadata": {},
   "outputs": [],
   "source": []
  },
  {
   "cell_type": "code",
   "execution_count": null,
   "id": "5f79ed34",
   "metadata": {},
   "outputs": [],
   "source": []
  },
  {
   "cell_type": "code",
   "execution_count": null,
   "id": "73f8aeaf",
   "metadata": {},
   "outputs": [],
   "source": []
  },
  {
   "cell_type": "code",
   "execution_count": null,
   "id": "3b851394",
   "metadata": {},
   "outputs": [],
   "source": []
  },
  {
   "cell_type": "code",
   "execution_count": null,
   "id": "d4caa064",
   "metadata": {},
   "outputs": [],
   "source": []
  }
 ],
 "metadata": {
  "kernelspec": {
   "display_name": "Python 3",
   "language": "python",
   "name": "python3"
  },
  "language_info": {
   "codemirror_mode": {
    "name": "ipython",
    "version": 3
   },
   "file_extension": ".py",
   "mimetype": "text/x-python",
   "name": "python",
   "nbconvert_exporter": "python",
   "pygments_lexer": "ipython3",
   "version": "3.8.8"
  }
 },
 "nbformat": 4,
 "nbformat_minor": 5
}
