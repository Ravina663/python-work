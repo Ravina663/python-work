{
 "cells": [
  {
   "cell_type": "markdown",
   "id": "258254ab",
   "metadata": {},
   "source": [
    "### 1.Demonstrate how to create simple and multi-line strings, and check whether a string can change after its creation."
   ]
  },
  {
   "cell_type": "code",
   "execution_count": 1,
   "id": "94030939",
   "metadata": {},
   "outputs": [
    {
     "name": "stdout",
     "output_type": "stream",
     "text": [
      "RAM IS GOOD BOY\n"
     ]
    }
   ],
   "source": [
    "# SIMPLE\n",
    "String1 = print('RAM IS GOOD BOY')\n"
   ]
  },
  {
   "cell_type": "code",
   "execution_count": 2,
   "id": "08eca2de",
   "metadata": {},
   "outputs": [
    {
     "name": "stdout",
     "output_type": "stream",
     "text": [
      "he is a tall boy\n"
     ]
    }
   ],
   "source": [
    "String2 = print(\"he is a tall boy\")"
   ]
  },
  {
   "cell_type": "code",
   "execution_count": 3,
   "id": "95d93cd3",
   "metadata": {},
   "outputs": [
    {
     "name": "stdout",
     "output_type": "stream",
     "text": [
      "RAM IS GOOD BOY.\n",
      "HE HAS MANY TOYS TO PLAY\n"
     ]
    }
   ],
   "source": [
    "#multiline\n",
    "String3 = print(\"\"\"RAM IS GOOD BOY.\n",
    "HE HAS MANY TOYS TO PLAY\"\"\")"
   ]
  },
  {
   "cell_type": "markdown",
   "id": "b184274e",
   "metadata": {},
   "source": [
    "string can not change after irs creation"
   ]
  },
  {
   "cell_type": "markdown",
   "id": "12872c0d",
   "metadata": {},
   "source": [
    "### 2.For a given string ‘Hello World!’, extract the following:\n",
    "\n",
    " \n",
    "\n",
    "1.H W\n",
    "\n",
    "2.o o\n",
    "\n",
    "3.llorld\n",
    "\n",
    "4.!dlroW olleH\n",
    "\n",
    "5.World!\n",
    "\n",
    "6.Hello"
   ]
  },
  {
   "cell_type": "code",
   "execution_count": 4,
   "id": "481d492d",
   "metadata": {},
   "outputs": [
    {
     "name": "stdout",
     "output_type": "stream",
     "text": [
      "H W\n",
      "o o\n",
      "llorld\n",
      "!dlroW olleH\n",
      "World!\n",
      "Hello\n"
     ]
    }
   ],
   "source": [
    "str1='Hello World!'\n",
    "print(str1[0]+' '+str1[6])\n",
    "print(str1[4]+' '+str1[7])\n",
    "print(str1[2:4]+str1[7:11])\n",
    "print(str1[::-1])\n",
    "print (str1[6:])\n",
    "print(str1[:5])"
   ]
  },
  {
   "cell_type": "markdown",
   "id": "124faaff",
   "metadata": {},
   "source": [
    "### 3. For the following strings, determine which contain only alphabets, only digits, alphanumeric, which are in lowercase, and which are in uppercase. Also check whether str3 begins or ends with the word “Now”.\n",
    "\n",
    "Str1 = ‘Welcome’\n",
    "\n",
    "Str2 = ‘Hello World!’\n",
    "\n",
    "Str3 = ‘Now is the best time ever! ‘\n",
    "\n",
    "Str4 = ‘500017’\n",
    "\n",
    "Str5 = ‘IPhone 6’"
   ]
  },
  {
   "cell_type": "code",
   "execution_count": 5,
   "id": "c5e382e1",
   "metadata": {},
   "outputs": [
    {
     "name": "stdout",
     "output_type": "stream",
     "text": [
      "the alphabetic letter is: False\n",
      "the lowercase letter is: False\n",
      "the uppercase letter is: False\n",
      "the alphanumeric is: True\n",
      "the alphabetic letter is: False\n",
      "the lowercase letter is: False\n",
      "the uppercase letter is: False\n",
      "the alphabetic letter is: False\n",
      "the lowercase letter is: False\n",
      "the uppercase letter is: False\n",
      "the sentence starts with: True\n",
      "the sentence ends with: False\n",
      "the alphanumeric is: True\n",
      "the digits is: True\n",
      "the alphanumeric is: False\n",
      "the digits is: False\n"
     ]
    }
   ],
   "source": [
    "str1 = 'Welcome2'\n",
    "print('the alphabetic letter is:',str1.isalpha())\n",
    "print('the lowercase letter is:',str1.islower())\n",
    "print('the uppercase letter is:',str1.isupper())\n",
    "print('the alphanumeric is:',str1.isalnum())\n",
    "\n",
    "\n",
    "str2 = 'Hello World!'\n",
    "print('the alphabetic letter is:',str2.isalpha())\n",
    "print('the lowercase letter is:',str2.islower())\n",
    "print('the uppercase letter is:',str2.isupper())\n",
    "\n",
    "\n",
    "str3 = 'Now is the best time ever!'\n",
    "print('the alphabetic letter is:',str1.isalpha())\n",
    "print('the lowercase letter is:',str1.islower())\n",
    "print('the uppercase letter is:',str1.isupper())\n",
    "print('the sentence starts with:',str3.startswith('Now'))\n",
    "print('the sentence ends with:',str3.endswith('Now'))\n",
    "\n",
    "str4 ='500017'\n",
    "print('the alphanumeric is:',str4.isalnum())\n",
    "print('the digits is:',str4.isdigit())\n",
    "\n",
    "str5 = 'Iphone 6'\n",
    "print('the alphanumeric is:',str5.isalnum())\n",
    "print('the digits is:',str5.isdigit())"
   ]
  },
  {
   "cell_type": "markdown",
   "id": "172eb8d0",
   "metadata": {},
   "source": [
    "### 4. Accept a sentence from the user. Convert the case of the input into title case"
   ]
  },
  {
   "cell_type": "code",
   "execution_count": 6,
   "id": "7586b995",
   "metadata": {},
   "outputs": [
    {
     "name": "stdout",
     "output_type": "stream",
     "text": [
      "Enter the sentence:bjb bbj hv \n"
     ]
    },
    {
     "data": {
      "text/plain": [
       "'Bjb Bbj Hv '"
      ]
     },
     "execution_count": 6,
     "metadata": {},
     "output_type": "execute_result"
    }
   ],
   "source": [
    "str1=input('Enter the sentence:')\n",
    "str1.title()\n"
   ]
  },
  {
   "cell_type": "markdown",
   "id": "2486928c",
   "metadata": {},
   "source": [
    "### 5. Write a program that reads an integer from the user. Then your program should display a message indicating whether the integer is even or odd."
   ]
  },
  {
   "cell_type": "code",
   "execution_count": 7,
   "id": "bdd3a8ff",
   "metadata": {},
   "outputs": [
    {
     "name": "stdout",
     "output_type": "stream",
     "text": [
      "Enter an integer: 45\n",
      "It is odd\n"
     ]
    }
   ],
   "source": [
    "x = int(input('Enter an integer: '))\n",
    "\n",
    "if x%2 == 0:\n",
    "    print('It is even')\n",
    "else:\n",
    "    print('It is odd')"
   ]
  },
  {
   "cell_type": "markdown",
   "id": "6a66ef69",
   "metadata": {},
   "source": [
    "### 6. Create a program that reads a letter of the alphabet from the user. If the user enters a, e, i, o or u then your program should display a message indicating that the entered letter is a vowel. Otherwise, the program should display a message that the entered letter is a consonant"
   ]
  },
  {
   "cell_type": "code",
   "execution_count": 8,
   "id": "f0759b74",
   "metadata": {},
   "outputs": [
    {
     "name": "stdout",
     "output_type": "stream",
     "text": [
      "Input a letter of the alphabet: h\n",
      "The entered letter is a consonant.\n"
     ]
    }
   ],
   "source": [
    "letter = input(\"Input a letter of the alphabet: \")\n",
    "\n",
    "if letter in ('a', 'e', 'i', 'o', 'u'):\n",
    "    print(\"The entered letter is a vowel.\")\n",
    "else:\n",
    "    print(\"The entered letter is a consonant.\" ) "
   ]
  },
  {
   "cell_type": "markdown",
   "id": "fe05af50",
   "metadata": {},
   "source": [
    "### 7. The length of a month varies from 28 to 31 days. Create a program that reads the name of a month from the user as a string. Then your program should display the number of days in that month. Display “28 or 29 days” for February so that leap years is addressed."
   ]
  },
  {
   "cell_type": "code",
   "execution_count": 9,
   "id": "36da2134",
   "metadata": {},
   "outputs": [
    {
     "name": "stdout",
     "output_type": "stream",
     "text": [
      "Enter the month:May\n",
      "May has 31 days\n"
     ]
    }
   ],
   "source": [
    "month = input('Enter the month:')\n",
    "if month in ('January','March','May','July','August','October','December'):\n",
    "    print(month,'has 31 days')\n",
    "elif month in ('April','June','september','November'):\n",
    "    print(month,'has 30 days')\n",
    "elif month in ('February'):\n",
    "    print(month,'has 28 or 29 days')\n",
    "else:\n",
    "    print('Invalid Month')\n"
   ]
  },
  {
   "cell_type": "markdown",
   "id": "09e27977",
   "metadata": {},
   "source": [
    "### 8. A triangle can be classified based on the lengths of its sides as equilateral, isosceles or scalene. All 3 sides of an equilateral triangle have the same length. An isosceles triangle has two sides that are the same length, and a third side that is a different length. If all of the sides have different lengths then the triangle is scalene. Write a program that reads the lengths of 3 sides of a triangle from the user. Display a message indicating the type of the triangle."
   ]
  },
  {
   "cell_type": "code",
   "execution_count": 10,
   "id": "69b3d36f",
   "metadata": {},
   "outputs": [
    {
     "name": "stdout",
     "output_type": "stream",
     "text": [
      "Input lengths of the triangle sides: \n",
      "x: 4\n",
      "y: 5\n",
      "z: 6\n",
      "Scalene triangle\n"
     ]
    }
   ],
   "source": [
    "print(\"Input lengths of the triangle sides: \")\n",
    "x = int(input(\"x: \"))\n",
    "y = int(input(\"y: \"))\n",
    "z = int(input(\"z: \"))\n",
    "\n",
    "if x == y == z:\n",
    "    print(\"Equilateral triangle\")\n",
    "elif x==y or y==z or z==x:\n",
    "    print(\"isosceles triangle\")\n",
    "else:\n",
    "    print(\"Scalene triangle\")"
   ]
  },
  {
   "cell_type": "code",
   "execution_count": null,
   "id": "384ce689",
   "metadata": {},
   "outputs": [],
   "source": []
  },
  {
   "cell_type": "markdown",
   "id": "850711b3",
   "metadata": {},
   "source": [
    "### 9. The rules for determining whether or not a year is a leap year follow:\n",
    "\n",
    " \n",
    "\n",
    "1.Any year that is divisible by 400 is a leap year.\n",
    "\n",
    "2.Of the remaining years, any year that is divisible by 100 is not a leap year.\n",
    "\n",
    "3.Of the remaining years, any year that is divisible by 4 is a leap year.\n",
    "\n",
    "4.All other years are not leap years.\n",
    "\n",
    "Write a program that reads a year from the user and displays a message indicating whether or not it is a leap year."
   ]
  },
  {
   "cell_type": "code",
   "execution_count": 11,
   "id": "13330dc7",
   "metadata": {},
   "outputs": [
    {
     "name": "stdout",
     "output_type": "stream",
     "text": [
      "2020\n",
      "THIS IS LEAP YEAR\n"
     ]
    }
   ],
   "source": [
    "year = int(input())\n",
    "if year % 400 == 0:\n",
    "    print(\"THIS IS LEAP YEAR\")\n",
    "elif year % 100 == 0:\n",
    "    print(\"THIS IS NOT LEAP YEAR\")\n",
    "elif year % 4 == 0:\n",
    "    print(\"THIS IS LEAP YEAR\")\n",
    "else:\n",
    "    print(\"THIS IS NOT LEAP YEAR\")"
   ]
  },
  {
   "cell_type": "markdown",
   "id": "88a64537",
   "metadata": {},
   "source": [
    "### 10. Write a program that computes the real roots of a quadratic function. Your program should begin by prompting the user for the values of a, b and c. Then it should display a message indicating the number of real roots, along with the values of the real roots (if any)."
   ]
  },
  {
   "cell_type": "markdown",
   "id": "60e6e98b",
   "metadata": {},
   "source": [
    "D = b^2-4ac\n",
    "D=0  there is one real root\n",
    "D>0 there is 2 real roots\n",
    "D<0 there is no real root"
   ]
  },
  {
   "cell_type": "code",
   "execution_count": 18,
   "id": "7aaac586",
   "metadata": {},
   "outputs": [
    {
     "name": "stdout",
     "output_type": "stream",
     "text": [
      "a: 1\n",
      "b: 4\n",
      "c: 2\n",
      "8.0\n",
      "there are two real roots\n",
      "The solution are (-3.414213562373095+0j) and (-0.5857864376269049+0j)\n"
     ]
    }
   ],
   "source": [
    "import cmath\n",
    "a = float(input('a: '))  \n",
    "b = float(input('b: '))  \n",
    "c = float(input('c: '))  \n",
    "  \n",
    "\n",
    "\n",
    "d = (b**2) - (4*a*c)  \n",
    "print (d)\n",
    "if d==0:\n",
    "    print('there is one real root')\n",
    "elif d>0:\n",
    "    print('there are two real roots')\n",
    "else:\n",
    "    print('there is no real root')\n",
    "    \n",
    "sol1 = (-b-cmath.sqrt(d))/(2*a)  \n",
    "sol2 = (-b+cmath.sqrt(d))/(2*a)  \n",
    "print('The solution are {0} and {1}'.format(sol1,sol2))   "
   ]
  },
  {
   "cell_type": "code",
   "execution_count": null,
   "id": "400757ea",
   "metadata": {},
   "outputs": [],
   "source": []
  }
 ],
 "metadata": {
  "kernelspec": {
   "display_name": "Python 3",
   "language": "python",
   "name": "python3"
  },
  "language_info": {
   "codemirror_mode": {
    "name": "ipython",
    "version": 3
   },
   "file_extension": ".py",
   "mimetype": "text/x-python",
   "name": "python",
   "nbconvert_exporter": "python",
   "pygments_lexer": "ipython3",
   "version": "3.8.8"
  }
 },
 "nbformat": 4,
 "nbformat_minor": 5
}
