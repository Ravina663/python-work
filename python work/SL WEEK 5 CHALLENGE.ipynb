{
 "cells": [
  {
   "cell_type": "markdown",
   "id": "ff6c3060",
   "metadata": {},
   "source": [
    "### 1.Write a function that takes the lengths of the two shorter sides of a right triangle as its parameters. Return the hypotenuse of the triangle, computed using Pythagorean theorem, as the function’s result."
   ]
  },
  {
   "cell_type": "code",
   "execution_count": 17,
   "id": "0783bc33",
   "metadata": {},
   "outputs": [
    {
     "name": "stdout",
     "output_type": "stream",
     "text": [
      "Input length of two short sides of triangle:\n",
      "side a :4\n",
      "side b :1\n",
      "The Length of Hypotenious is : 4.123105625617661\n"
     ]
    }
   ],
   "source": [
    "from math import sqrt\n",
    "print('Input length of two short sides of triangle:')\n",
    "a = float(input('side a :'))\n",
    "b = float(input('side b :'))\n",
    "c = sqrt(a ** 2 + b ** 2)\n",
    "print('The Length of Hypotenious is :',c)"
   ]
  },
  {
   "cell_type": "markdown",
   "id": "7e17e06b",
   "metadata": {},
   "source": [
    "### 2.An online retailer provides express shipping for many of its items at a rate of 10.95 for the first item, and 2.95 for each subsequent item. Write a function that takes the number of items in the order as its only parameter. Return the shipping charge for the order as the function’s result. Include a main program that reads the number of items purchased from the user and displays the shipping charge."
   ]
  },
  {
   "cell_type": "code",
   "execution_count": 15,
   "id": "febf2c91",
   "metadata": {},
   "outputs": [
    {
     "name": "stdout",
     "output_type": "stream",
     "text": [
      "Enter the number of orders :45\n",
      "The total shipping charges for 45 orders is : 140.75\n"
     ]
    }
   ],
   "source": [
    "def shipping_charge(n):\n",
    "    if (n == 1):\n",
    "        return 10.95\n",
    "    else:\n",
    "        return 10.95 + (n - 1) * (2.95)\n",
    "n = int(input(\"Enter the number of orders :\"))\n",
    "print(\"The total shipping charges for\",n,\"orders is :\",shipping_charge(n))"
   ]
  },
  {
   "cell_type": "markdown",
   "id": "6b19348a",
   "metadata": {},
   "source": [
    "### 3.Write a function that takes three numbers as parameters, and returns the median value of those parameters as its result. Include a main program that reads three values from the user and displays their median."
   ]
  },
  {
   "cell_type": "code",
   "execution_count": 12,
   "id": "2c694265",
   "metadata": {},
   "outputs": [
    {
     "name": "stdout",
     "output_type": "stream",
     "text": [
      "7\n",
      "8\n",
      "11\n",
      "The median is 8.0\n"
     ]
    }
   ],
   "source": [
    "a = float(input())\n",
    "b = float(input())\n",
    "c = float(input())\n",
    "if a > b:\n",
    "    if a < c:\n",
    "            median = a\n",
    "    elif b > c:\n",
    "        median = b\n",
    "    else:\n",
    "        median = c\n",
    "else:\n",
    "    if a > c:\n",
    "        median = a\n",
    "    elif b < c:\n",
    "        median = b\n",
    "    else:\n",
    "        median = c\n",
    "print(\"The median is\", median)"
   ]
  },
  {
   "cell_type": "markdown",
   "id": "a7af9f0b",
   "metadata": {},
   "source": [
    "### 4.Write a function that determines whether or not three lengths can form a triangle. The function will take 3 parameters and return a Boolean result. In addition, write a program that reads 3 lengths from the user and demonstrates the behavior of this function. In general, if any one length is greater than or equal to the sum of the other two then the lengths cannot be used to form a triangle. Otherwise they can form a triangle."
   ]
  },
  {
   "cell_type": "code",
   "execution_count": 11,
   "id": "112615ba",
   "metadata": {},
   "outputs": [
    {
     "name": "stdout",
     "output_type": "stream",
     "text": [
      "Enter the value of length 1 :5\n",
      "Enter the value of length 2 :6\n",
      "Enter the value of length 3 :8\n"
     ]
    },
    {
     "data": {
      "text/plain": [
       "True"
      ]
     },
     "execution_count": 11,
     "metadata": {},
     "output_type": "execute_result"
    }
   ],
   "source": [
    "def triangle(A,B,C):\n",
    "    if A+B >= C and B+C >= A and C+A >= B:\n",
    "        return True\n",
    "    else:\n",
    "        return False\n",
    "A = int(input('Enter the value of length 1 :'))\n",
    "B = int(input('Enter the value of length 2 :'))\n",
    "C = int(input('Enter the value of length 3 :'))\n",
    "triangle(A,B,C)"
   ]
  },
  {
   "cell_type": "markdown",
   "id": "a93d6b42",
   "metadata": {},
   "source": [
    "### 5.In this exercise you will write a function named isInteger that determines whether or not the characters in a string represent a valid integer. When determining if a string represents an integer you should ignore any leading or trailing white space. Once this white space is ignored, a string represents an integer if its length is at least 1 and it only contains digits, or if its first character is either + or - and the first character is followed by one or more characters, all of which are digits. Write a main program that reads a string from the user and reports whether or not it represents an integer."
   ]
  },
  {
   "cell_type": "code",
   "execution_count": 10,
   "id": "c5d3cdca",
   "metadata": {},
   "outputs": [
    {
     "name": "stdout",
     "output_type": "stream",
     "text": [
      "Enter a string :45\n",
      "This Represent an Integer.\n"
     ]
    }
   ],
   "source": [
    "string = input(\"Enter a string :\")\n",
    "string = string.replace(' ','')\n",
    "def isInteger(string):\n",
    "    if string[0] == ('-') or string[0] == ('+'):\n",
    "        string[1:].isdigit()\n",
    "        print(\"This Represent an Integer.\")\n",
    "    elif string.isdigit():\n",
    "        print(\"This Represent an Integer.\")\n",
    "    else:\n",
    "        print(\"This Does not represent an Integer.\")\n",
    "isInteger(string)"
   ]
  },
  {
   "cell_type": "markdown",
   "id": "be24d308",
   "metadata": {},
   "source": [
    "### 6.In this exercise you will create a function named nextPrime that finds and returns the first prime number larger than some integer, n. The value of n will be passed to the function as its only parameter. Include a main program that reads an integer from the user and displays the first prime number larger than the entered value."
   ]
  },
  {
   "cell_type": "code",
   "execution_count": 6,
   "id": "f5fbbcc5",
   "metadata": {},
   "outputs": [
    {
     "name": "stdout",
     "output_type": "stream",
     "text": [
      "Enter a number :45\n",
      "The prime number after 45 is 47\n"
     ]
    }
   ],
   "source": [
    "def nextPrime(n):\n",
    "    x = n + 1\n",
    "    for i in range(2,x):\n",
    "        if(x % i == 0):\n",
    "            x += 1\n",
    "        else:\n",
    "            print('The prime number after',n,'is',x)\n",
    "            break\n",
    "n = int (input('Enter a number :'))\n",
    "nextPrime(n)"
   ]
  },
  {
   "cell_type": "markdown",
   "id": "e0298e48",
   "metadata": {},
   "source": [
    "### 7.In this exercise you will write a function that determines whether or not a password is good. We will define a good password to be a one that is at least 8 characters long and contains at least one uppercase letter, at least one lowercase letter, and at least one number. Your function should return true if the password passed to it as its only parameter is good. Otherwise it should return false. Include a main program that reads a password from the user and reports whether or not it is good."
   ]
  },
  {
   "cell_type": "code",
   "execution_count": 4,
   "id": "6b6f1a11",
   "metadata": {},
   "outputs": [
    {
     "name": "stdout",
     "output_type": "stream",
     "text": [
      "Enter the password: Rash1234\n"
     ]
    },
    {
     "data": {
      "text/plain": [
       "True"
      ]
     },
     "execution_count": 4,
     "metadata": {},
     "output_type": "execute_result"
    }
   ],
   "source": [
    "def password(pwd):\n",
    "    length = lower = upper = digit = False\n",
    "    if len(pwd) >= 8:\n",
    "        length = True\n",
    "        for letters in pwd:\n",
    "            if letters.islower():\n",
    "                lower = True\n",
    "            if letters.isupper():\n",
    "                upper = True\n",
    "            if letters.isdigit():\n",
    "                digit = True\n",
    "    if length and upper and lower and digit:\n",
    "        return True\n",
    "    else:\n",
    "        return False\n",
    "pwd = input('Enter the password: ')\n",
    "password(pwd)"
   ]
  },
  {
   "cell_type": "markdown",
   "id": "c6850d03",
   "metadata": {},
   "source": [
    "### 8.Write a program that reads values from the user until a blank line is entered. Display the total of all of the values entered by the user (or 0.0 if the first value entered is a blank line). Complete this task using recursion. Your program may not use any loops. The body of your recursive function will need to read one value from the user, and then determine whether or not to make a recursive call. Your function does not need to take any parameters, but it will need to return a numeric result"
   ]
  },
  {
   "cell_type": "code",
   "execution_count": null,
   "id": "f3ecc3a5",
   "metadata": {},
   "outputs": [],
   "source": [
    "def Sum_fun():\n",
    "    n = input(\"enter a value or enter blank: \")\n",
    "    if n == \"\":\n",
    "        return 0.0\n",
    "    else:\n",
    "        n = int(n)\n",
    "    return (n + Sum_fun())\n",
    "print(\"Total of all the values Entered = \", Sum_fun())"
   ]
  },
  {
   "cell_type": "markdown",
   "id": "fadde727",
   "metadata": {},
   "source": [
    "### 9.In this exercise you will write a recursive function that determines whether or not a string is a palindrome. The empty string is a palindrome, as is any string containing only one character. Any longer string is a palindrome if its first and last characters match, and if the string formed by removing the first and last characters is also a palindrome. Write a main program that reads a string from the user. Use your recursive function to determine whether or not the string is a palindrome. Then display an appropriate message for the user."
   ]
  },
  {
   "cell_type": "code",
   "execution_count": null,
   "id": "02aac313",
   "metadata": {},
   "outputs": [],
   "source": [
    "def is_palindrome(s):\n",
    "    if len(s) < 1:\n",
    "        return True\n",
    "    else:\n",
    "        if s[0] == s[-1]:\n",
    "            return is_palindrome(s[1:-1])\n",
    "        else:\n",
    "            return False\n",
    "str1 = input(\"Enter a string:\")\n",
    "if(is_palindrome(str1)==True):\n",
    "    print(\"Entered String is a palindrome\")\n",
    "else:\n",
    "    print(\"Entered String is not a palindrome\")"
   ]
  },
  {
   "cell_type": "markdown",
   "id": "215ec3bc",
   "metadata": {},
   "source": [
    "### 10.Write a function that takes a list of strings as its only parameter. Your function should return a string that contains all of the items in the list formatted in the manner described previously as its only result. While the examples shown previously only include lists containing four elements or less, your function should behave correctly for lists of any length. Include a main program that reads several items from the user, formats them by calling your function, and then displays the result returned by the function. Consider the following four lists:\n",
    "\n",
    "apples\n",
    "\n",
    "apples and oranges\n",
    "\n",
    "apples, oranges and bananas\n",
    "\n",
    "apples, oranges, bananas and lemons"
   ]
  },
  {
   "cell_type": "code",
   "execution_count": null,
   "id": "55b8f782",
   "metadata": {},
   "outputs": [],
   "source": [
    "def formatting (lst2):\n",
    "    s = ''\n",
    "    s += lst2[0]\n",
    "    for i in (lst2[1:-1]):\n",
    "        s = s + ', '+ i\n",
    "    s = s + ' and ' + lst2[-1]\n",
    "    return s\n",
    "a = input(\"Enter the elements seperated with space :\")\n",
    "b= list(a.split(\" \"))\n",
    "print(formatting(b))"
   ]
  }
 ],
 "metadata": {
  "kernelspec": {
   "display_name": "Python 3",
   "language": "python",
   "name": "python3"
  },
  "language_info": {
   "codemirror_mode": {
    "name": "ipython",
    "version": 3
   },
   "file_extension": ".py",
   "mimetype": "text/x-python",
   "name": "python",
   "nbconvert_exporter": "python",
   "pygments_lexer": "ipython3",
   "version": "3.8.8"
  }
 },
 "nbformat": 4,
 "nbformat_minor": 5
}
