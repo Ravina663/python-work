{
 "cells": [
  {
   "cell_type": "markdown",
   "id": "e3e62dc0",
   "metadata": {},
   "source": [
    "### 1. Write a program that read contents of the file ‘messages’ one character at a time and prints each character that is read."
   ]
  },
  {
   "cell_type": "code",
   "execution_count": 10,
   "id": "a31609fd",
   "metadata": {
    "scrolled": true
   },
   "outputs": [
    {
     "name": "stdout",
     "output_type": "stream",
     "text": [
      "hello ram\n",
      "\n",
      "come in \n",
      "\n",
      "Welcome to our home\n",
      "\n",
      "hello ram\n",
      "\n",
      "come in \n",
      "\n",
      "Welcome to our home\n",
      "\n"
     ]
    }
   ],
   "source": [
    "file_obj = open('ram.txt', 'r')\n",
    "for line in file_obj:\n",
    "    print(line)\n",
    "for character in file_obj:\n",
    "    print(character)"
   ]
  },
  {
   "cell_type": "markdown",
   "id": "e8d03a85",
   "metadata": {},
   "source": [
    "### 2.Write a Python program that searches for a file, obtains its size and reports the size in bytes/ KB/ MB as appropriate"
   ]
  },
  {
   "cell_type": "code",
   "execution_count": 11,
   "id": "41ba154c",
   "metadata": {},
   "outputs": [
    {
     "name": "stdout",
     "output_type": "stream",
     "text": [
      "Size of file is : 0 bytes\n"
     ]
    }
   ],
   "source": [
    "file = open('ram.txt')\n",
    "print(\"Size of file is :\", file.tell(), \"bytes\")"
   ]
  },
  {
   "cell_type": "markdown",
   "id": "2a5c1c16",
   "metadata": {},
   "source": [
    "### 3.Write a program to accept a filename from the user, create a file with that name(if it does not exist) and write some content into the file"
   ]
  },
  {
   "cell_type": "code",
   "execution_count": 12,
   "id": "598a2e27",
   "metadata": {},
   "outputs": [
    {
     "name": "stdout",
     "output_type": "stream",
     "text": [
      "Enter The Name Of The File :ram.txt\n",
      "ravana was killed by ram\n",
      "\n",
      "ram won\n"
     ]
    }
   ],
   "source": [
    "import json\n",
    "f_name = input('Enter The Name Of The File :')\n",
    "file = open(f_name,'w')\n",
    "file.write('ravana was killed by ram\\n')\n",
    "file.write('ram won')\n",
    "file=open(f_name,'r')\n",
    "lines=file.readlines()\n",
    "for line in lines:\n",
    "    print(line)\n",
    "    "
   ]
  },
  {
   "cell_type": "markdown",
   "id": "e2a23e67",
   "metadata": {},
   "source": [
    "### 4.Write a program to read a file and display its contents along with line numbers before each line"
   ]
  },
  {
   "cell_type": "code",
   "execution_count": 13,
   "id": "767d9f41",
   "metadata": {},
   "outputs": [
    {
     "name": "stdout",
     "output_type": "stream",
     "text": [
      "Line1: hello ram\n",
      "Line2: come in\n",
      "Line3: Welcome to our home\n"
     ]
    }
   ],
   "source": [
    "Line = [\"hello ram\\n\", \"come in \\n\", \"Welcome to our home\\n\"]\n",
    "file1 = open('ram.txt', 'w')\n",
    "file1.writelines(Line)\n",
    "file1.close()\n",
    "file1 = open('ram.txt', 'r')\n",
    "Lines = file1.readlines()\n",
    "count = 0\n",
    "for line in Lines:\n",
    "    count += 1\n",
    "    print(\"Line{}: {}\".format(count, line.strip()))"
   ]
  },
  {
   "cell_type": "markdown",
   "id": "d6a5f6e1",
   "metadata": {},
   "source": [
    "### 5.Write a program to copy the contents of one file into another"
   ]
  },
  {
   "cell_type": "code",
   "execution_count": 14,
   "id": "1a0bbfba",
   "metadata": {},
   "outputs": [
    {
     "name": "stdout",
     "output_type": "stream",
     "text": [
      "Enter the name of source file:ram.txt\n",
      "Enter the name of destination file:sham.txt\n"
     ]
    }
   ],
   "source": [
    "source_file =input('Enter the name of source file:')\n",
    "destination_file =input('Enter the name of destination file:')\n",
    "f1 = open(source_file ,'r')\n",
    "f2 = open(destination_file ,'w')\n",
    "while True:\n",
    "    data = f1.read(1)\n",
    "    if data == '':\n",
    "        break\n",
    "    f2.write(data)\n",
    "f1.close()\n",
    "f2.close()"
   ]
  },
  {
   "cell_type": "markdown",
   "id": "a5aad102",
   "metadata": {},
   "source": [
    "### 6.Write a program to append the contents of one file into another"
   ]
  },
  {
   "cell_type": "code",
   "execution_count": 15,
   "id": "0cd55de9",
   "metadata": {},
   "outputs": [
    {
     "name": "stdout",
     "output_type": "stream",
     "text": [
      "Enter the name of source file:ram.txt\n",
      "Enter the name of destination file:sham.txt\n"
     ]
    }
   ],
   "source": [
    "source_file =input('Enter the name of source file:')\n",
    "destination_file =input('Enter the name of destination file:')\n",
    "f1 = open(\"ram.txt\" ,'r')\n",
    "f2 = open(\"sham.txt\" ,'a') \n",
    "while True:\n",
    "    data = f1.read(1)\n",
    "    if data == '':\n",
    "        break\n",
    "\n",
    "    f2.write(data)\n",
    "f1.close()\n",
    "f2.close()"
   ]
  },
  {
   "cell_type": "markdown",
   "id": "8e3c19e0",
   "metadata": {},
   "source": [
    "### 7.Suppose a file contains student records, with each record containing name and age of student. Write a program to read these records and display them in sorted order by name"
   ]
  },
  {
   "cell_type": "code",
   "execution_count": 27,
   "id": "742a830d",
   "metadata": {},
   "outputs": [
    {
     "name": "stdout",
     "output_type": "stream",
     "text": [
      "['Mona', 20, 'sona', 22, 'ramona', 23]\n"
     ]
    },
    {
     "ename": "TypeError",
     "evalue": "'<' not supported between instances of 'int' and 'str'",
     "output_type": "error",
     "traceback": [
      "\u001b[1;31m---------------------------------------------------------------------------\u001b[0m",
      "\u001b[1;31mTypeError\u001b[0m                                 Traceback (most recent call last)",
      "\u001b[1;32m<ipython-input-27-1ce0738fcdee>\u001b[0m in \u001b[0;36m<module>\u001b[1;34m\u001b[0m\n\u001b[0;32m      3\u001b[0m \u001b[0mstudent\u001b[0m \u001b[1;33m=\u001b[0m \u001b[0mjson\u001b[0m\u001b[1;33m.\u001b[0m\u001b[0mload\u001b[0m\u001b[1;33m(\u001b[0m\u001b[0mf\u001b[0m\u001b[1;33m)\u001b[0m\u001b[1;33m\u001b[0m\u001b[1;33m\u001b[0m\u001b[0m\n\u001b[0;32m      4\u001b[0m \u001b[0mprint\u001b[0m\u001b[1;33m(\u001b[0m\u001b[0mstudent\u001b[0m\u001b[1;33m)\u001b[0m\u001b[1;33m\u001b[0m\u001b[1;33m\u001b[0m\u001b[0m\n\u001b[1;32m----> 5\u001b[1;33m \u001b[1;32mfor\u001b[0m \u001b[0mline\u001b[0m \u001b[1;32min\u001b[0m \u001b[0msorted\u001b[0m \u001b[1;33m(\u001b[0m\u001b[0mstudent\u001b[0m\u001b[1;33m)\u001b[0m\u001b[1;33m:\u001b[0m\u001b[1;33m\u001b[0m\u001b[1;33m\u001b[0m\u001b[0m\n\u001b[0m\u001b[0;32m      6\u001b[0m     \u001b[0mprint\u001b[0m\u001b[1;33m(\u001b[0m\u001b[0mline\u001b[0m\u001b[1;33m,\u001b[0m\u001b[1;34m\":\"\u001b[0m\u001b[1;33m,\u001b[0m \u001b[0mstudent\u001b[0m\u001b[1;33m[\u001b[0m\u001b[0mline\u001b[0m\u001b[1;33m]\u001b[0m\u001b[1;33m)\u001b[0m\u001b[1;33m\u001b[0m\u001b[1;33m\u001b[0m\u001b[0m\n\u001b[0;32m      7\u001b[0m \u001b[0mf\u001b[0m\u001b[1;33m.\u001b[0m\u001b[0mclose\u001b[0m\u001b[1;33m(\u001b[0m\u001b[1;33m)\u001b[0m\u001b[1;33m\u001b[0m\u001b[1;33m\u001b[0m\u001b[0m\n",
      "\u001b[1;31mTypeError\u001b[0m: '<' not supported between instances of 'int' and 'str'"
     ]
    }
   ],
   "source": [
    "import json\n",
    "f = open('student_data','r')\n",
    "student = json.load(f)\n",
    "print(student)\n",
    "for line in sorted (student):\n",
    "    print(line,\":\", student[line])\n",
    "f.close()"
   ]
  },
  {
   "cell_type": "markdown",
   "id": "94d6880f",
   "metadata": {},
   "source": [
    "### 8.Suppose there are three modules m1.py, m2.py and m3.py containing functions f1(), f2() and f3() respectively. Write a program to use these functions"
   ]
  },
  {
   "cell_type": "code",
   "execution_count": null,
   "id": "5e85cc04",
   "metadata": {},
   "outputs": [],
   "source": [
    "import m1\n",
    "import m2\n",
    "import m3\n",
    "a=int(input(\"Enter value of a :\"))\n",
    "b=int(input(\"Enter value of b :\"))\n",
    "print('Addition of',a,'and',b,'is :',m1.f1(a,b))\n",
    "print('Subtraction of',a,'and',b,'is :',m2.f2(a,b))\n",
    "print('Multiplication of',a,'and',b,'is :',m3.f3(a,b))"
   ]
  },
  {
   "cell_type": "markdown",
   "id": "63387524",
   "metadata": {},
   "source": [
    "### 9.Write a program containing functions fun1(), fun2() and fun3() and some statements. Add suitable code to the program such that you can use it as a module or a normal program"
   ]
  },
  {
   "cell_type": "code",
   "execution_count": null,
   "id": "8c88ff2f",
   "metadata": {},
   "outputs": [],
   "source": [
    "import module\n",
    "x = int(input(\"Enter value of x :\"))\n",
    "y = int(input(\"Enter value of y :\"))\n",
    "print('Addition of',x,'and',y,'is :',module.fun1(x,y))\n",
    "print('Subtraction of',x,'and',y,'is :',module.fun2(x,y))\n",
    "print('Multiplication of',x,'and',y,'is :',module.fun3(x,y))"
   ]
  },
  {
   "cell_type": "markdown",
   "id": "777568dd",
   "metadata": {},
   "source": [
    "### 10.Suppose a module called mod.py contains functions f1(), f2() and f3(). Write three forms of import statements to use these functions in your program"
   ]
  },
  {
   "cell_type": "code",
   "execution_count": null,
   "id": "3cea76ea",
   "metadata": {},
   "outputs": [],
   "source": [
    "from mod.py import f1\n",
    "\n",
    "from mod.py import f2\n",
    "\n",
    "from mod.py import f3\n",
    "\n",
    "#or\n",
    "\n",
    "\n",
    "from mod.py import f1,f2,f3\n"
   ]
  },
  {
   "cell_type": "code",
   "execution_count": null,
   "id": "1ac32312",
   "metadata": {},
   "outputs": [],
   "source": []
  }
 ],
 "metadata": {
  "kernelspec": {
   "display_name": "Python 3",
   "language": "python",
   "name": "python3"
  },
  "language_info": {
   "codemirror_mode": {
    "name": "ipython",
    "version": 3
   },
   "file_extension": ".py",
   "mimetype": "text/x-python",
   "name": "python",
   "nbconvert_exporter": "python",
   "pygments_lexer": "ipython3",
   "version": "3.8.8"
  }
 },
 "nbformat": 4,
 "nbformat_minor": 5
}
