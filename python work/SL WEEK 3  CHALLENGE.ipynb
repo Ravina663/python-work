{
 "cells": [
  {
   "cell_type": "markdown",
   "id": "d39e5d6e",
   "metadata": {},
   "source": [
    "### 1. Write a program to accept an integer n greater than 10. Then print all the odd numbers from 1 to n."
   ]
  },
  {
   "cell_type": "code",
   "execution_count": 1,
   "id": "b7a21d0e",
   "metadata": {},
   "outputs": [
    {
     "name": "stdout",
     "output_type": "stream",
     "text": [
      "Enter the number greater than 10:45\n",
      "i: 1\n",
      "i: 3\n",
      "i: 5\n",
      "i: 7\n",
      "i: 9\n",
      "i: 11\n",
      "i: 13\n",
      "i: 15\n",
      "i: 17\n",
      "i: 19\n",
      "i: 21\n",
      "i: 23\n",
      "i: 25\n",
      "i: 27\n",
      "i: 29\n",
      "i: 31\n",
      "i: 33\n",
      "i: 35\n",
      "i: 37\n",
      "i: 39\n",
      "i: 41\n",
      "i: 43\n",
      "i: 45\n"
     ]
    }
   ],
   "source": [
    "n = int(input(\"Enter the number greater than 10:\"))\n",
    "if n>10:\n",
    "    for i in range(1,n+1):\n",
    "        if i%2!=0:\n",
    "            print(\"i:\",i)\n",
    "else:\n",
    "    print(\"number is invalid\")\n"
   ]
  },
  {
   "cell_type": "markdown",
   "id": "2aba043f",
   "metadata": {},
   "source": [
    "### 2. Write a program to accept an integer n greater than 10. Then print all the prime numbers from 1 to n."
   ]
  },
  {
   "cell_type": "code",
   "execution_count": 2,
   "id": "84d13df8",
   "metadata": {},
   "outputs": [
    {
     "name": "stdout",
     "output_type": "stream",
     "text": [
      "45\n",
      "all prime number upto 45 are:\n",
      "2 3 4 5 6 7 8 9 10 11 12 13 14 15 16 17 18 19 20 21 22 23 24 25 26 27 28 29 30 31 32 33 34 35 36 37 38 39 40 41 42 43 44 "
     ]
    }
   ],
   "source": [
    "x=int(input())\n",
    "print(\"all prime number upto\",x,\"are:\")\n",
    "for n in range(2,n):\n",
    "    if n%i==0:\n",
    "        i=n\n",
    "        break\n",
    "    if(i!=n):\n",
    "        print(n,end=\" \")"
   ]
  },
  {
   "cell_type": "markdown",
   "id": "1c0f45c8",
   "metadata": {},
   "source": [
    "### 3. In this exercise you will create a program that computes the average of a collection of values entered by the user. The user will enter 0 as a sentinel value to indicate that no further values will be provided. Your program should display an appropriate error message if the first value entered by the user is 0."
   ]
  },
  {
   "cell_type": "code",
   "execution_count": null,
   "id": "bfb7b5b2",
   "metadata": {},
   "outputs": [],
   "source": [
    "count=0\n",
    "sum=0\n",
    "n=1\n",
    "while n!=0:\n",
    "    n = int(input())\n",
    "    sum = sum+n\n",
    "    count+=1\n",
    "if count==0:\n",
    "    print(\"abc  \")\n",
    "else:\n",
    "    average = sum/(count-1)\n",
    "    average = float('{:.3f}'.format(average))\n",
    "    \n",
    "    print(\"average of above numbers is: \",average)"
   ]
  },
  {
   "cell_type": "markdown",
   "id": "be783cfd",
   "metadata": {},
   "source": [
    "### 4. Write a program that takes a number as input and prints its multiplication table."
   ]
  },
  {
   "cell_type": "code",
   "execution_count": 1,
   "id": "b6fd5cb7",
   "metadata": {},
   "outputs": [
    {
     "name": "stdout",
     "output_type": "stream",
     "text": [
      "45\n",
      "multiplication table of 45\n",
      "45 x 1 = 45\n",
      "45 x 2 = 90\n",
      "45 x 3 = 135\n",
      "45 x 4 = 180\n",
      "45 x 5 = 225\n",
      "45 x 6 = 270\n",
      "45 x 7 = 315\n",
      "45 x 8 = 360\n",
      "45 x 9 = 405\n",
      "45 x 10 = 450\n"
     ]
    }
   ],
   "source": [
    "n= int(input())\n",
    "print(\"multiplication table of\",n)\n",
    "for i in range(1,11):\n",
    "    print(n,\"x\",i,\"=\",n*i)"
   ]
  },
  {
   "cell_type": "markdown",
   "id": "0261a185",
   "metadata": {},
   "source": [
    "### 5. Write a program that displays a temperature conversion table for degrees Celsius and degrees Fahrenheit. The table should include rows for all temperatures between 0 and 100 degrees Celsius that are multiples of 10 degrees Celsius. Include appropriate headings on your columns."
   ]
  },
  {
   "cell_type": "code",
   "execution_count": 2,
   "id": "e6c150bf",
   "metadata": {},
   "outputs": [
    {
     "name": "stdout",
     "output_type": "stream",
     "text": [
      "Temperature Converter\n",
      "|-------------------------------|\n",
      "| Celsius\t| Fahrenheit |\n",
      "|-------------------------------|\n",
      "|\t 0 \t|\t 32.0 \t|\n",
      "|\t 10 \t|\t 50.0 \t|\n",
      "|\t 20 \t|\t 68.0 \t|\n",
      "|\t 30 \t|\t 86.0 \t|\n",
      "|\t 40 \t|\t 104.0 \t|\n",
      "|\t 50 \t|\t 122.0 \t|\n",
      "|\t 60 \t|\t 140.0 \t|\n",
      "|\t 70 \t|\t 158.0 \t|\n",
      "|\t 80 \t|\t 176.0 \t|\n",
      "|\t 90 \t|\t 194.0 \t|\n",
      "|\t 100 \t|\t 212.0 \t|\n",
      "|-------------------------------|\n"
     ]
    }
   ],
   "source": [
    "print(\"Temperature Converter\")\n",
    "print(\"|-------------------------------|\")\n",
    "print(\"| Celsius\\t| Fahrenheit |\")\n",
    "print(\"|-------------------------------|\")\n",
    "#for loop iterates upto 0 to 100\n",
    "for i in range(101):\n",
    "    #check for multiples of 10\n",
    "    if (i%10==0):\n",
    "    #convert to fahrenheit\n",
    "        f=(i*(9/5))+32\n",
    "        #print conversion\n",
    "        print(\"|\\t\",i,\"\\t|\\t\",f,\"\\t|\")\n",
    "print(\"|-------------------------------|\")"
   ]
  },
  {
   "cell_type": "markdown",
   "id": "4170cd76",
   "metadata": {},
   "source": [
    "### 6. A string is a palindrome if it is identical forward and backward. For example “anna”, “civic”, “level” and “madam” are all examples of palindrome words. Write a program that reads a string from the user and uses a loop to determine whether or not it is a palindrome. Display the result, including a meaningful output message."
   ]
  },
  {
   "cell_type": "code",
   "execution_count": 3,
   "id": "e20acdee",
   "metadata": {},
   "outputs": [
    {
     "name": "stdout",
     "output_type": "stream",
     "text": [
      "enter the word:bob\n",
      "bob is palindrome\n"
     ]
    }
   ],
   "source": [
    "str1 = input(\"enter the word:\")\n",
    "\n",
    "rev = str1[::-1]\n",
    "\n",
    "for i in range(0,len(str1)):\n",
    "    if str1[i]!= rev[i]:\n",
    "        print(str1,\"is not palindrome\")\n",
    "        break\n",
    "    else:\n",
    "        print(str1,\"is palindrome\")\n",
    "        break\n",
    "        "
   ]
  },
  {
   "cell_type": "markdown",
   "id": "1eff1bf5",
   "metadata": {},
   "source": [
    "### 7. The greatest common divisor (GCD) of two positive integers, n and m, is the largest number, d, which divides evenly into both n and m. The following algorithm is used to find GCD of n and m :\n",
    "\n",
    "Initialize d to the smaller of m and n.\n",
    "While d does not evenly divide m or d does not evenly divide n do\n",
    "Decrease the value of d by 1\n",
    "Report d as the greatest common divisor of n and m\n",
    "\n",
    "### Write a program that reads two positive integers from the user and uses this algorithm to determine and report their greatest common divisor."
   ]
  },
  {
   "cell_type": "code",
   "execution_count": 4,
   "id": "9e9232aa",
   "metadata": {},
   "outputs": [
    {
     "name": "stdout",
     "output_type": "stream",
     "text": [
      "45\n",
      "78\n",
      "the GCD of 45 and 78 is 3\n"
     ]
    }
   ],
   "source": [
    "n=int(input())\n",
    "m=int(input())\n",
    "d=min(n,m)\n",
    "while n%d!=0 or m%d!=0:\n",
    "    d=d-1\n",
    "print(\"the GCD of\", n, \"and\" ,m ,\"is\",d)"
   ]
  },
  {
   "cell_type": "code",
   "execution_count": null,
   "id": "ac187025",
   "metadata": {},
   "outputs": [],
   "source": []
  },
  {
   "cell_type": "markdown",
   "id": "2c61a4df",
   "metadata": {},
   "source": [
    "### 8. The prime factorization of an integer, n, can be determined using the following steps:\n",
    "\n",
    "Initialize factor to two\n",
    "While factor is less than or equal to n do\n",
    "If n is evenly divisible by factor then\n",
    "           Conclude that factor is a factor of n\n",
    "           Divide n by factor using integer division\n",
    "Else\n",
    "Increase factor by one\n",
    "\n",
    "### Write a program that reads an integer from the user. If the value entered by the user is less than 2 then your program should display an appropriate error message. Otherwise your program should display the prime numbers that can be multiplied together to compute n, with one factor appearing on each line.\n",
    "\n"
   ]
  },
  {
   "cell_type": "code",
   "execution_count": 5,
   "id": "39911b84",
   "metadata": {},
   "outputs": [
    {
     "name": "stdout",
     "output_type": "stream",
     "text": [
      "3\n",
      "3\n",
      "5\n",
      "7\n"
     ]
    }
   ],
   "source": [
    "import math\n",
    " \n",
    "# A function to print all prime factors of\n",
    "# a given number n\n",
    "def primeFactors(n):\n",
    "     \n",
    "    # Print the number of two's that divide n\n",
    "    while n % 2 == 0:\n",
    "        print (2)\n",
    "        n = n / 2\n",
    "         \n",
    "    # n must be odd at this point\n",
    "    # so a skip of 2 ( i = i + 2) can be used\n",
    "    for i in range(3, int(math.sqrt(n))+1, 2):\n",
    "         \n",
    "        # while i divides n, print i ad divide n\n",
    "        while n % i == 0:\n",
    "            print (i),\n",
    "            n = n / i\n",
    "             \n",
    "    # Condition if n is a prime\n",
    "    # number greater than 2\n",
    "    if n > 2:\n",
    "        print (n)\n",
    "         \n",
    "# Driver Program to test above function\n",
    " \n",
    "n = 315\n",
    "primeFactors(n)\n",
    " #above code is contributed by me and my friend... i expect simpler version of ir"
   ]
  },
  {
   "cell_type": "markdown",
   "id": "6a44bb0c",
   "metadata": {},
   "source": [
    "### 9. Write a program that converts a binary (base 2) number to decimal (base 10). Your program should begin by reading the binary number from the user as a string. Then it should compute the equivalent decimal number by processing each digit in the binary number. Finally, your program should display the equivalent decimal number with an appropriate message."
   ]
  },
  {
   "cell_type": "code",
   "execution_count": 6,
   "id": "d0efdf03",
   "metadata": {},
   "outputs": [
    {
     "name": "stdout",
     "output_type": "stream",
     "text": [
      "enter the binary number110010000\n",
      "\n",
      "Equivalent Decimal Value= 400\n"
     ]
    }
   ],
   "source": [
    "bn=int(input(\"enter the binary number\"))\n",
    "n=0 #decimal\n",
    "i=1\n",
    "while bn!=0:\n",
    "    rmd=bn%10     \n",
    "    n=n+(rmd*i)\n",
    "    i=i*2\n",
    "    bn=int(bn/10)\n",
    "print(\"\\nEquivalent Decimal Value=\",n)\n"
   ]
  },
  {
   "cell_type": "markdown",
   "id": "521e6385",
   "metadata": {},
   "source": [
    "### 10. Demonstrate the formatting capabilities of format function on integers, floats and strings.\n",
    "\n"
   ]
  },
  {
   "cell_type": "code",
   "execution_count": 7,
   "id": "7c6cdf14",
   "metadata": {},
   "outputs": [
    {
     "name": "stdout",
     "output_type": "stream",
     "text": [
      "Hello\n",
      "Hello World\n"
     ]
    }
   ],
   "source": [
    "#string formatting\n",
    "str1 = \"Hello\"\n",
    "print('{}'.format(str1))\n",
    "\n",
    "\n",
    "str1 = \"Hello\"\n",
    "str2 = \"World\"\n",
    "print('{} {}'.format(str1, str2))\n",
    "\n"
   ]
  },
  {
   "cell_type": "code",
   "execution_count": 9,
   "id": "1ac9d88a",
   "metadata": {},
   "outputs": [
    {
     "name": "stdout",
     "output_type": "stream",
     "text": [
      "45\n",
      "101101\n"
     ]
    }
   ],
   "source": [
    "x=int(input())\n",
    "binary_value = format(x, 'b')\n",
    "print(binary_value)"
   ]
  },
  {
   "cell_type": "code",
   "execution_count": 10,
   "id": "ffe4d487",
   "metadata": {},
   "outputs": [
    {
     "name": "stdout",
     "output_type": "stream",
     "text": [
      "45\n",
      "45.000000\n"
     ]
    }
   ],
   "source": [
    "# float arguments\n",
    "x=float(input())\n",
    "print(format(x, \"f\"))"
   ]
  },
  {
   "cell_type": "code",
   "execution_count": null,
   "id": "0fb5f1b3",
   "metadata": {},
   "outputs": [],
   "source": []
  },
  {
   "cell_type": "code",
   "execution_count": null,
   "id": "68637e87",
   "metadata": {},
   "outputs": [],
   "source": []
  }
 ],
 "metadata": {
  "kernelspec": {
   "display_name": "Python 3",
   "language": "python",
   "name": "python3"
  },
  "language_info": {
   "codemirror_mode": {
    "name": "ipython",
    "version": 3
   },
   "file_extension": ".py",
   "mimetype": "text/x-python",
   "name": "python",
   "nbconvert_exporter": "python",
   "pygments_lexer": "ipython3",
   "version": "3.8.8"
  }
 },
 "nbformat": 4,
 "nbformat_minor": 5
}
