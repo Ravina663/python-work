{
 "cells": [
  {
   "cell_type": "markdown",
   "id": "48347294",
   "metadata": {},
   "source": [
    "### 1.Create two numpy arrays. The first array, called arr1 should be of one dimension and consist of six elements of float type. The second array, called arr2 should be of two dimensions and each sub-array should consist of 5 elements of string type. Display these two numpy arrays."
   ]
  },
  {
   "cell_type": "code",
   "execution_count": 1,
   "id": "ce080927",
   "metadata": {},
   "outputs": [
    {
     "name": "stdout",
     "output_type": "stream",
     "text": [
      "First Array :\n",
      "[1.1 2.2 3.3 4.4 5.5 6.6] \n",
      "\n",
      "Second Array :\n",
      "[['1' '2' '3' '4' '5']\n",
      " ['6' '7' '8' '9' '10']]\n"
     ]
    }
   ],
   "source": [
    "import numpy as np\n",
    "arr1 = np.array([1.1,2.2,3.3,4.4,5.5,6.6],dtype=float)\n",
    "arr2 = np.array([[1,2,3,4,5],[6,7,8,9,10]],dtype=str)\n",
    "print('First Array :')\n",
    "print(arr1,'\\n')\n",
    "print('Second Array :')\n",
    "print(arr2)"
   ]
  },
  {
   "cell_type": "markdown",
   "id": "50acb60e",
   "metadata": {},
   "source": [
    "### 2.For the arrays arr1 and arr2 created in Q.No.1, display the following properties: data type and dimensions. Reshape arr1 into a two dimensional array of 2 rows and three columns, and display the reshaped array. Similarly, reshape arr2 into a single dimensional array and display the reshaped array."
   ]
  },
  {
   "cell_type": "code",
   "execution_count": 2,
   "id": "b502a59f",
   "metadata": {},
   "outputs": [
    {
     "name": "stdout",
     "output_type": "stream",
     "text": [
      "[1.1 2.2 3.3 4.4 5.5 6.6]\n",
      "float64\n",
      "(6,)\n",
      "[['1' '2' '3' '4' '5']\n",
      " ['6' '7' '8' '9' '10']]\n",
      "<U2\n",
      "(2, 5)\n"
     ]
    }
   ],
   "source": [
    "print(arr1)\n",
    "print(arr1.dtype)\n",
    "print(arr1.shape)\n",
    "\n",
    "print(arr2)\n",
    "print(arr2.dtype)\n",
    "print(arr2.shape)"
   ]
  },
  {
   "cell_type": "code",
   "execution_count": 3,
   "id": "dab0b435",
   "metadata": {},
   "outputs": [
    {
     "name": "stdout",
     "output_type": "stream",
     "text": [
      "[[1.1 2.2 3.3]\n",
      " [4.4 5.5 6.6]]\n",
      "[['1' '2' '3' '4' '5' '6' '7' '8' '9' '10']]\n"
     ]
    }
   ],
   "source": [
    "new_arr1=np.reshape(arr1,(2,3))\n",
    "print(new_arr1)\n",
    "new_arr2=np.reshape(arr2,(1,10))\n",
    "print(new_arr2)"
   ]
  },
  {
   "cell_type": "markdown",
   "id": "f42e3425",
   "metadata": {},
   "source": [
    "### 3.Create a two dimensional array called arr3, of 3 rows and 4 columns which is initialized to zeroes. Create another single dimensional array called arr4, with 6 elements and which is initialized to ones. The type of arr4 is int."
   ]
  },
  {
   "cell_type": "code",
   "execution_count": 4,
   "id": "9739d691",
   "metadata": {},
   "outputs": [
    {
     "name": "stdout",
     "output_type": "stream",
     "text": [
      "[[0 0 0 0]\n",
      " [0 0 0 0]\n",
      " [0 0 0 0]]\n",
      "\n",
      "\n",
      "[1 1 1 1 1 1]\n"
     ]
    }
   ],
   "source": [
    "arr3 = np.zeros((3,4),dtype=int)\n",
    "arr4 = np.ones(6,dtype=int)\n",
    "print(arr3)\n",
    "print('\\n')\n",
    "print(arr4)"
   ]
  },
  {
   "cell_type": "markdown",
   "id": "f1ee059a",
   "metadata": {},
   "source": [
    "### 4.Create a list called list1 with the elements 10,20,30,40,50. Now, create a numpy array called arr5 from list1, using the method asarray. The data type of arr5 is float. Similarly, create another array called arr6, from list1, using the method fromiter, whose data type is int. Display arr5 and arr6."
   ]
  },
  {
   "cell_type": "code",
   "execution_count": 5,
   "id": "813bd001",
   "metadata": {},
   "outputs": [
    {
     "name": "stdout",
     "output_type": "stream",
     "text": [
      "Asarray Method of array : [10. 20. 30. 40. 50.] \n",
      "\n",
      "Fromiter method of array : [10 20 30 40 50]\n"
     ]
    }
   ],
   "source": [
    "list1 = [10,20,30,40,50]\n",
    "arr5 = np.asarray(list1,dtype=float)\n",
    "arr6 = np.fromiter(list1,dtype=int)\n",
    "print('Asarray Method of array :',arr5,'\\n')\n",
    "\n",
    "print('Fromiter method of array :',arr6)"
   ]
  },
  {
   "cell_type": "markdown",
   "id": "b11a4b99",
   "metadata": {},
   "source": [
    "### 5.Create a numpy array called arr7 using the method arange. The starting value of this array is 12 and ending value is 99, with a step size of 3. Use the linspace method to create another array called arr8, where the starting value is 12 and ending value is 99 and which contains 50 evenly spaced elements."
   ]
  },
  {
   "cell_type": "code",
   "execution_count": 6,
   "id": "42b5e7b9",
   "metadata": {},
   "outputs": [
    {
     "name": "stdout",
     "output_type": "stream",
     "text": [
      "arange method of array : \n",
      "  [12 15 18 21 24 27 30 33 36 39 42 45 48 51 54 57 60 63 66 69 72 75 78 81\n",
      " 84 87 90 93 96] \n",
      "\n",
      "linspace method of array : \n",
      "  [12.         13.7755102  15.55102041 17.32653061 19.10204082 20.87755102\n",
      " 22.65306122 24.42857143 26.20408163 27.97959184 29.75510204 31.53061224\n",
      " 33.30612245 35.08163265 36.85714286 38.63265306 40.40816327 42.18367347\n",
      " 43.95918367 45.73469388 47.51020408 49.28571429 51.06122449 52.83673469\n",
      " 54.6122449  56.3877551  58.16326531 59.93877551 61.71428571 63.48979592\n",
      " 65.26530612 67.04081633 68.81632653 70.59183673 72.36734694 74.14285714\n",
      " 75.91836735 77.69387755 79.46938776 81.24489796 83.02040816 84.79591837\n",
      " 86.57142857 88.34693878 90.12244898 91.89795918 93.67346939 95.44897959\n",
      " 97.2244898  99.        ]\n"
     ]
    }
   ],
   "source": [
    "arr7 = np.arange(12,99,3)\n",
    "arr8 = np.linspace(12,99,50)\n",
    "print('arange method of array : \\n ',arr7,'\\n')\n",
    "print('linspace method of array : \\n ',arr8)"
   ]
  },
  {
   "cell_type": "markdown",
   "id": "9d8eed82",
   "metadata": {},
   "source": [
    "### 6.In the array arr2 defined in Q.No. 1, what is the output of the following statements: print(arr2), print(arr2[0:1]), print(arr2[1][3]), print (arr2[1])\n",
    " \n",
    "\n"
   ]
  },
  {
   "cell_type": "code",
   "execution_count": 7,
   "id": "19471545",
   "metadata": {},
   "outputs": [
    {
     "name": "stdout",
     "output_type": "stream",
     "text": [
      "[['1' '2' '3' '4' '5']\n",
      " ['6' '7' '8' '9' '10']] \n",
      "\n",
      "[['1' '2' '3' '4' '5']] \n",
      "\n",
      "9 \n",
      "\n",
      "['6' '7' '8' '9' '10'] \n",
      "\n"
     ]
    }
   ],
   "source": [
    "print(arr2,'\\n'),\n",
    "print(arr2[0:1],'\\n') \n",
    "print(arr2[1][3],'\\n')\n",
    "print (arr2[1],'\\n')"
   ]
  },
  {
   "cell_type": "markdown",
   "id": "5d843e78",
   "metadata": {},
   "source": [
    "### 7.Create a two dimensional array called arr9 with the following elements: [101, 322, 768], [233, 124, 390], [534, 122, 216]. From arr9, create an array called arr10 which contains the elements 101, 322, 390, 122 using advanced integer indexing. Create another array called arr11 which contains elements of first and second rows, and second and third columns using slicing operations."
   ]
  },
  {
   "cell_type": "code",
   "execution_count": 8,
   "id": "ef73d900",
   "metadata": {},
   "outputs": [
    {
     "name": "stdout",
     "output_type": "stream",
     "text": [
      "array arr9 is :\n",
      " [[101 322 768]\n",
      " [233 124 390]\n",
      " [534 122 216]] \n",
      "\n",
      "Advanced Integer Indexing : [101 322 390 122] \n",
      "\n",
      "Slicing Operation : [[233 124 390]] \n",
      "\n"
     ]
    }
   ],
   "source": [
    "arr9 = np.array([[101,322,768],[233,124,390],[534,122,216]],dtype=int)\n",
    "arr10 = arr9[[0,0,1,2],[0,1,2,1]]\n",
    "arr11 = arr9[0:2][1:3]\n",
    "print('array arr9 is :\\n',arr9,'\\n')\n",
    "\n",
    "print('Advanced Integer Indexing :',arr10,'\\n')\n",
    "\n",
    "print('Slicing Operation :',arr11,'\\n')"
   ]
  },
  {
   "cell_type": "markdown",
   "id": "47540178",
   "metadata": {},
   "source": [
    "### 8.From array arr9 created in Q.No. 7, find all elements greater than 200 using boolean indexing, find all non-NaN elements, and find all non-float elements. Find the result of adding arrays arr9 and another array of 3 elements, using the concept of broadcasting."
   ]
  },
  {
   "cell_type": "code",
   "execution_count": 9,
   "id": "36255441",
   "metadata": {},
   "outputs": [
    {
     "name": "stdout",
     "output_type": "stream",
     "text": [
      "Elements are greater than 200 in arr9 : [322 768 233 390 534 216] \n",
      "\n",
      "Non-NaN Elements in arr9 : [101 322 768 233 124 390 534 122 216] \n",
      "\n",
      "Non-Float Elements in arr9 : [[[101 322 768]\n",
      "  [233 124 390]\n",
      "  [534 122 216]]] \n",
      "\n",
      "The Broadcasting Method : [[array([423, 869, 334, 491, 635, 317])\n",
      "  array([ 644, 1090,  555,  712,  856,  538])\n",
      "  array([1090, 1536, 1001, 1158, 1302,  984])]\n",
      " [array([ 334,  555, 1001,  466,  357,  623,  767,  355,  449])\n",
      "  array([225, 446, 892, 357, 248, 514, 658, 246, 340])\n",
      "  array([ 491,  712, 1158,  623,  514,  780,  924,  512,  606])]\n",
      " [array([[[ 635,  856, 1302],\n",
      "        [ 767,  658,  924],\n",
      "        [1068,  656,  750]]])\n",
      "  array([[[223, 444, 890],\n",
      "        [355, 246, 512],\n",
      "        [656, 244, 338]]])\n",
      "  array([[[317, 538, 984],\n",
      "        [449, 340, 606],\n",
      "        [750, 338, 432]]])]]\n"
     ]
    },
    {
     "name": "stderr",
     "output_type": "stream",
     "text": [
      "<ipython-input-9-c10511a6a46c>:10: VisibleDeprecationWarning: Creating an ndarray from ragged nested sequences (which is a list-or-tuple of lists-or-tuples-or ndarrays with different lengths or shapes) is deprecated. If you meant to do this, you must specify 'dtype=object' when creating the ndarray\n",
      "  arr15 = np.array([[arr12],[arr13],[arr14]])\n"
     ]
    }
   ],
   "source": [
    "arr12 = arr9[arr9 > 200]\n",
    "print('Elements are greater than 200 in arr9 :',arr12,'\\n')\n",
    "\n",
    "arr13 = arr9[~np.isnan(arr9)]\n",
    "print('Non-NaN Elements in arr9 :',arr13,'\\n')\n",
    "\n",
    "arr14 = arr9[arr9.dtype != 'float']\n",
    "print('Non-Float Elements in arr9 :',arr14,'\\n')\n",
    "\n",
    "arr15 = np.array([[arr12],[arr13],[arr14]])\n",
    "arr16 = arr9 + arr15\n",
    "print('The Broadcasting Method :',arr16)"
   ]
  },
  {
   "cell_type": "markdown",
   "id": "07b4864d",
   "metadata": {},
   "source": [
    "### 9.For the array arr9, find its transpose. Find the result of joining the arrays arr1 and arr4 along axis 0.\n",
    " "
   ]
  },
  {
   "cell_type": "code",
   "execution_count": 10,
   "id": "10250691",
   "metadata": {},
   "outputs": [
    {
     "name": "stdout",
     "output_type": "stream",
     "text": [
      "arr9 is\n",
      " [[101 322 768]\n",
      " [233 124 390]\n",
      " [534 122 216]] \n",
      "\n",
      "The transponse of arr9  [[101 233 534]\n",
      " [322 124 122]\n",
      " [768 390 216]] \n",
      "\n",
      "Joining the two arrays arr1 and arr4 along the axis = 0 (Row wise) \n",
      "[1 2 3 4 5 6 1 1 1 1 1 1]\n"
     ]
    }
   ],
   "source": [
    "arr9_transpose = arr9.T\n",
    "print('arr9 is\\n',arr9,'\\n')\n",
    "print('The transponse of arr9 ',arr9_transpose,'\\n')\n",
    "print('Joining the two arrays arr1 and arr4 along the axis = 0 (Row wise) ')\n",
    "arr11 = np.array(arr1,dtype=int)\n",
    "print(np.concatenate((arr11,arr4),axis = 0))"
   ]
  },
  {
   "cell_type": "markdown",
   "id": "0beeb703",
   "metadata": {},
   "source": [
    "### 10.Using any two 2-dimensional arrays, demonstrate the working of the methods, hstack, vstack, hsplit and vsplit.\n",
    "\n",
    "\n",
    "\n",
    "\n"
   ]
  },
  {
   "cell_type": "code",
   "execution_count": 11,
   "id": "7e06c900",
   "metadata": {},
   "outputs": [
    {
     "name": "stdout",
     "output_type": "stream",
     "text": [
      "hstack:\n",
      " [1 2 3 4] \n",
      "\n",
      "vstack:\n",
      " [[1 2]\n",
      " [3 4]] \n",
      "\n",
      "hsplit:\n",
      " [array([[1],\n",
      "       [3]], dtype=uint64), array([[2],\n",
      "       [4]], dtype=uint64)] \n",
      "\n",
      "vsplit:\n",
      " [array([[1, 2]], dtype=uint64), array([[3, 4]], dtype=uint64)] \n",
      "\n"
     ]
    }
   ],
   "source": [
    "arr2_2 = np.array([[1,2],[3,4]],'\\n')\n",
    "print('hstack:\\n',np.hstack(arr2_2),'\\n')\n",
    "print('vstack:\\n',np.vstack(arr2_2,),'\\n')\n",
    "print('hsplit:\\n',np.hsplit(arr2_2,2),'\\n')\n",
    "print('vsplit:\\n',np.vsplit(arr2_2,2),'\\n')"
   ]
  },
  {
   "cell_type": "code",
   "execution_count": null,
   "id": "66416d35",
   "metadata": {},
   "outputs": [],
   "source": []
  }
 ],
 "metadata": {
  "kernelspec": {
   "display_name": "Python 3",
   "language": "python",
   "name": "python3"
  },
  "language_info": {
   "codemirror_mode": {
    "name": "ipython",
    "version": 3
   },
   "file_extension": ".py",
   "mimetype": "text/x-python",
   "name": "python",
   "nbconvert_exporter": "python",
   "pygments_lexer": "ipython3",
   "version": "3.8.8"
  }
 },
 "nbformat": 4,
 "nbformat_minor": 5
}
