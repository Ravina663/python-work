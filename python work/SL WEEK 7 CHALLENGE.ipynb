{
 "cells": [
  {
   "cell_type": "markdown",
   "id": "7e74bd72",
   "metadata": {},
   "source": [
    "### 1. Create a class called number which contains an integer. It should contain various methods to set the value of the integer, return the integer value, print the integer value, check whether the integer is negative."
   ]
  },
  {
   "cell_type": "code",
   "execution_count": 5,
   "id": "0136f83b",
   "metadata": {},
   "outputs": [
    {
     "name": "stdout",
     "output_type": "stream",
     "text": [
      "11 integer value is positive\n",
      "-18 integer value is negative \n"
     ]
    }
   ],
   "source": [
    "class Number:\n",
    "    def set_data(self,n):\n",
    "        self._number = n\n",
    "    def display_data(self):\n",
    "        if self._number < 0:\n",
    "            return print(self._number,'integer value is negative ')\n",
    "        else:\n",
    "            return print(self._number,'integer value is positive')\n",
    "\n",
    "N1 = Number()\n",
    "N1.set_data(11)\n",
    "N1.display_data()\n",
    "N2 = Number()\n",
    "N2.set_data(-18)\n",
    "N2.display_data()"
   ]
  },
  {
   "cell_type": "markdown",
   "id": "8677b0dc",
   "metadata": {},
   "source": [
    "### 2.Create a class that can calculate the perimeter/ circumference and area of a regular shape. The class should also have a provision to accept the data relevant to the shape."
   ]
  },
  {
   "cell_type": "code",
   "execution_count": 31,
   "id": "5f5d0e81",
   "metadata": {},
   "outputs": [
    {
     "name": "stdout",
     "output_type": "stream",
     "text": [
      "Area of Circle : 12.56\n",
      "Perimeter of Circle : 12.56\n",
      "Area of Square : 4\n",
      "Perimeter of Square : 8\n",
      "Area of Rectangle : 12\n",
      "Perimeter of Rectangle : 14\n"
     ]
    }
   ],
   "source": [
    "class RegularShape:\n",
    "    def __init__(self,shape='',side1=0,side2=0):\n",
    "        self.shape=shape\n",
    "        self.side1 = side1\n",
    "        self.side2 = side2\n",
    "    def set_data(self,shape,side1,side2):\n",
    "        self.side1=side1\n",
    "        self.side2=side2\n",
    "    def area(self):\n",
    "        if self.shape=='Circle' or self.shape=='circle':\n",
    "            if self.side1 == 0:\n",
    "                area_circle = 3.14*(self.side2**2)\n",
    "                return print('Area of Circle :',area_circle)\n",
    "            else:\n",
    "                area_circle = 3.14*(self.side1**2)\n",
    "                return print('Area of Circle :',area_circle)\n",
    "        elif self.shape=='Rectangle' or self.shape=='rectangle':\n",
    "            area_rect = self.side1*self.side2\n",
    "            return print('Area of Rectangle :',area_rect)\n",
    "        elif self.shape=='Square' or self.shape=='square':\n",
    "            if self.side1 == 0:\n",
    "                area_sq =(self.side2**2)\n",
    "                return print('Area of Square :',area_sq)\n",
    "            else:\n",
    "                area_sq = (self.side1**2)\n",
    "                return print('Area of Square :',area_sq)\n",
    "    def perimeter(self):\n",
    "        if self.shape=='Circle' or self.shape=='circle':\n",
    "            if self.side1 == 0:\n",
    "                peri_circle = 2*3.14*(self.side2)\n",
    "                return print('Perimeter of Circle :',peri_circle)\n",
    "            else:\n",
    "                peri_circle = 2*3.14*(self.side1)\n",
    "                return print('Perimeter of Circle :',peri_circle)\n",
    "        elif self.shape=='Rectangle' or self.shape=='rectangle':\n",
    "            peri_rect = 2*(self.side1+self.side2)\n",
    "            return print('Perimeter of Rectangle :',peri_rect)\n",
    "        elif self.shape=='Square' or self.shape=='square':\n",
    "            if self.side1 == 0:\n",
    "                peri_sq =4*(self.side2)\n",
    "                return print('Perimeter of Square :',peri_sq)\n",
    "            else:\n",
    "                peri_sq = 4*(self.side1)\n",
    "                return print('Perimeter of Square :',peri_sq)\n",
    "\n",
    "e1 = RegularShape('circle',2,4)\n",
    "e1.area()\n",
    "e1.perimeter()\n",
    "e2 = RegularShape('square',2,2)\n",
    "e2.area()\n",
    "e2.perimeter()\n",
    "e3 = RegularShape('rectangle',4,3)\n",
    "e3.area()\n",
    "e3.perimeter()"
   ]
  },
  {
   "cell_type": "markdown",
   "id": "76cf86e8",
   "metadata": {},
   "source": [
    "### 3.Create a class called student which contains the data members called rollno, sname and branch. The class should contain methods to initialize the data members and to set and display data members. Finally, the class should contain the del method to release the memory at the time of object destruction. Test your class with at least two objects of the student class."
   ]
  },
  {
   "cell_type": "code",
   "execution_count": 8,
   "id": "74fe5fe8",
   "metadata": {},
   "outputs": [
    {
     "name": "stdout",
     "output_type": "stream",
     "text": [
      "Deleting the object <__main__.Student object at 0x000002288E3CD340>\n",
      "Name Of Student : ravi\n",
      "Rollno Of Student : 1\n",
      "Branch Of Student : maths\n",
      "Deleting the object <__main__.Student object at 0x000002288E3CD370>\n",
      "Name Of Student : kavi\n",
      "Rollno Of Student : 3\n",
      "Branch Of Student : stats\n",
      "Deleting the object <__main__.Student object at 0x000002288E3B0280>\n",
      "Deleting the object <__main__.Student object at 0x000002288E3B0100>\n"
     ]
    }
   ],
   "source": [
    "class Student:\n",
    "    def __init__(self,rollno=0,sname=\" \",branch=\" \"):\n",
    "        self._rollno = rollno\n",
    "        self._sname = sname\n",
    "        self._branch = branch\n",
    "    def set_data(self,rollno,sname,branch):\n",
    "        self._rollno = rollno\n",
    "        self._sname = sname\n",
    "        self._branch = branch\n",
    "    def display_data(self):\n",
    "        print('Name Of Student :',self._sname)\n",
    "        print('Rollno Of Student :',self._rollno)\n",
    "        print('Branch Of Student :',self._branch)\n",
    "    def __del__(self):\n",
    "        print(\"Deleting the object\",str(self))\n",
    "\n",
    "s1=Student(1,'ravi','maths')\n",
    "s1.display_data()\n",
    "s2=Student(3,'kavi','stats')\n",
    "s2.display_data()\n",
    "s1.__del__()\n",
    "s2.__del__()"
   ]
  },
  {
   "cell_type": "markdown",
   "id": "e07d8e60",
   "metadata": {},
   "source": [
    "### 4. Modify the student class defined in Q. No. 1 in so that it now includes a class variable to count the number of student objects created from this class and also add a class function in order to display the value of the class variable. The modified class should be named as student1 class."
   ]
  },
  {
   "cell_type": "code",
   "execution_count": 39,
   "id": "6dde20f7",
   "metadata": {},
   "outputs": [
    {
     "name": "stdout",
     "output_type": "stream",
     "text": [
      "Name Of Student : RV\n",
      "Roll No.Of Student : 21\n",
      "Branch Of Student : ML\n",
      "Name Of Student : SH\n",
      "Roll No.Of Student : 22\n",
      "Branch Of Student : CS\n",
      "Name Of Student : KD\n",
      "Roll No.Of Student : 23\n",
      "Branch Of Student : BSc\n",
      "The number of student objects created so far : 3\n"
     ]
    }
   ],
   "source": [
    "class Student1:\n",
    "    instance_count = 0\n",
    "    def __init__(self,name='',rollno=0,branch=''):\n",
    "        Student1.increment_instance_count()\n",
    "        self._rollno=rollno\n",
    "        self._name=name\n",
    "        self._branch=branch\n",
    "    def set_data(self,rollno,name,branch):\n",
    "        self._rollno=rollno\n",
    "        self._name=name\n",
    "        self._branch=branch\n",
    "    def display_data(self):\n",
    "        print('Name Of Student :',self._name)\n",
    "        print('Roll No.Of Student :',self._rollno)\n",
    "        print('Branch Of Student :',self._branch)\n",
    "\n",
    "    @classmethod\n",
    "    def increment_instance_count(cls):\n",
    "        cls.instance_count += 1\n",
    "\n",
    "s1 = Student1('RV',21,'ML')\n",
    "s1.display_data()\n",
    "s2 = Student1('SH',22,'CS')\n",
    "s2.display_data()\n",
    "s3 = Student1('KD',23,'BSc')\n",
    "s3.display_data()\n",
    "print('The number of student objects created so far :',Student1.instance_count)"
   ]
  },
  {
   "cell_type": "markdown",
   "id": "5db409d4",
   "metadata": {},
   "source": [
    "### 5. Apply the vars() and dir() global function on student and student1 classes"
   ]
  },
  {
   "cell_type": "code",
   "execution_count": 12,
   "id": "65a6a6e6",
   "metadata": {},
   "outputs": [
    {
     "data": {
      "text/plain": [
       "mappingproxy({'__module__': '__main__',\n",
       "              '__init__': <function __main__.Student.__init__(self, rollno=0, sname=' ', branch=' ')>,\n",
       "              'set_data': <function __main__.Student.set_data(self, rollno, sname, branch)>,\n",
       "              'display_data': <function __main__.Student.display_data(self)>,\n",
       "              '__del__': <function __main__.Student.__del__(self)>,\n",
       "              '__dict__': <attribute '__dict__' of 'Student' objects>,\n",
       "              '__weakref__': <attribute '__weakref__' of 'Student' objects>,\n",
       "              '__doc__': None})"
      ]
     },
     "execution_count": 12,
     "metadata": {},
     "output_type": "execute_result"
    }
   ],
   "source": [
    "vars(Student)"
   ]
  },
  {
   "cell_type": "code",
   "execution_count": 13,
   "id": "96025c05",
   "metadata": {},
   "outputs": [
    {
     "data": {
      "text/plain": [
       "['__class__',\n",
       " '__del__',\n",
       " '__delattr__',\n",
       " '__dict__',\n",
       " '__dir__',\n",
       " '__doc__',\n",
       " '__eq__',\n",
       " '__format__',\n",
       " '__ge__',\n",
       " '__getattribute__',\n",
       " '__gt__',\n",
       " '__hash__',\n",
       " '__init__',\n",
       " '__init_subclass__',\n",
       " '__le__',\n",
       " '__lt__',\n",
       " '__module__',\n",
       " '__ne__',\n",
       " '__new__',\n",
       " '__reduce__',\n",
       " '__reduce_ex__',\n",
       " '__repr__',\n",
       " '__setattr__',\n",
       " '__sizeof__',\n",
       " '__str__',\n",
       " '__subclasshook__',\n",
       " '__weakref__',\n",
       " 'display_data',\n",
       " 'set_data']"
      ]
     },
     "execution_count": 13,
     "metadata": {},
     "output_type": "execute_result"
    }
   ],
   "source": [
    "dir(Student)"
   ]
  },
  {
   "cell_type": "code",
   "execution_count": 14,
   "id": "79b077f8",
   "metadata": {},
   "outputs": [
    {
     "data": {
      "text/plain": [
       "mappingproxy({'__module__': '__main__',\n",
       "              'instance_count': 3,\n",
       "              '__init__': <function __main__.Student1.__init__(self, name='', rollno=0, branch='')>,\n",
       "              'set_data': <function __main__.Student1.set_data(self, rollno, name, branch)>,\n",
       "              'display_data': <function __main__.Student1.display_data(self)>,\n",
       "              'increment_instance_count': <classmethod at 0x2288e3b06a0>,\n",
       "              '__dict__': <attribute '__dict__' of 'Student1' objects>,\n",
       "              '__weakref__': <attribute '__weakref__' of 'Student1' objects>,\n",
       "              '__doc__': None})"
      ]
     },
     "execution_count": 14,
     "metadata": {},
     "output_type": "execute_result"
    }
   ],
   "source": [
    "vars(Student1)"
   ]
  },
  {
   "cell_type": "code",
   "execution_count": 15,
   "id": "eb7dae13",
   "metadata": {},
   "outputs": [
    {
     "data": {
      "text/plain": [
       "['__class__',\n",
       " '__delattr__',\n",
       " '__dict__',\n",
       " '__dir__',\n",
       " '__doc__',\n",
       " '__eq__',\n",
       " '__format__',\n",
       " '__ge__',\n",
       " '__getattribute__',\n",
       " '__gt__',\n",
       " '__hash__',\n",
       " '__init__',\n",
       " '__init_subclass__',\n",
       " '__le__',\n",
       " '__lt__',\n",
       " '__module__',\n",
       " '__ne__',\n",
       " '__new__',\n",
       " '__reduce__',\n",
       " '__reduce_ex__',\n",
       " '__repr__',\n",
       " '__setattr__',\n",
       " '__sizeof__',\n",
       " '__str__',\n",
       " '__subclasshook__',\n",
       " '__weakref__',\n",
       " 'display_data',\n",
       " 'increment_instance_count',\n",
       " 'instance_count',\n",
       " 'set_data']"
      ]
     },
     "execution_count": 15,
     "metadata": {},
     "output_type": "execute_result"
    }
   ],
   "source": [
    "dir(Student1)"
   ]
  },
  {
   "cell_type": "markdown",
   "id": "79f30c90",
   "metadata": {},
   "source": [
    "### 6. Create a class called Date. It should contain data members day, month and year. It should also contain functions to set and display date, as well as function to initialize date objects. Overload the == operator to check if two dates are equal"
   ]
  },
  {
   "cell_type": "code",
   "execution_count": 36,
   "id": "bced07ab",
   "metadata": {},
   "outputs": [
    {
     "name": "stdout",
     "output_type": "stream",
     "text": [
      "5 / 4 / 2000\n",
      "6 / 7 / 1998\n",
      "Dates are not Equal\n",
      "\n",
      "\n",
      "5 / 11 / 2022\n",
      "5 / 11 / 2022\n",
      "Dates are Equal\n"
     ]
    }
   ],
   "source": [
    "class Date:\n",
    "    def __init__(self,day,month,year):\n",
    "        self._day = day\n",
    "        self._month = month\n",
    "        self._year = year\n",
    "    def set_data(self,day,month,year):\n",
    "        self._day = day\n",
    "        self._month = month\n",
    "        self._year = year\n",
    "    def display_data(self):\n",
    "        print(self._day,\"/\",self._month,\"/\",self._year)\n",
    "    def __eq__(self,other):\n",
    "        if self._day == other._day and self._month == other._month and self._year ==other._year:\n",
    "            return 'Dates are Equal'\n",
    "        else:\n",
    "            return 'Dates are not Equal'   \n",
    "d1 = Date(5,4,2000)\n",
    "d1.display_data()\n",
    "d2 = Date(6,7,1998)\n",
    "d2.display_data()\n",
    "print(d1 == d2)\n",
    "print(\"\\n\")\n",
    "d1 = Date(5,11,2022)\n",
    "d1.display_data()\n",
    "d2 = Date(5,11,2022)\n",
    "d2.display_data()\n",
    "print(d1 == d2)"
   ]
  },
  {
   "cell_type": "markdown",
   "id": "df83c5ad",
   "metadata": {},
   "source": [
    "### 7. Create a class called weather that has a list containing weather parameters. Overload the in operator that checks whether an item is present in the list or not."
   ]
  },
  {
   "cell_type": "code",
   "execution_count": 20,
   "id": "b791d04b",
   "metadata": {},
   "outputs": [
    {
     "name": "stdout",
     "output_type": "stream",
     "text": [
      "Item is not present in the list\n"
     ]
    }
   ],
   "source": [
    "class Weather:\n",
    "    def __init__(self,t,h,w):\n",
    "        self._temperature = t\n",
    "        self._humidity = h\n",
    "        self._wind_speed = w\n",
    "        self._list=[self._temperature,self._humidity,self._wind_speed]\n",
    "    def set_data(self,t,h,w,m):\n",
    "        self._temperature = t\n",
    "        self._humidity = h\n",
    "        self._wind_speed = w\n",
    "    def display(self):\n",
    "        return self._list\n",
    "    def contains(self,other):\n",
    "        if other in self._list:\n",
    "            print(\"Item is present in the list\")\n",
    "        else:\n",
    "            print(\"Item is not present in the list\")\n",
    "w1=Weather('Temperature','Humidity','Wind speed')\n",
    "w1.display()\n",
    "w1.contains('Moisture')"
   ]
  },
  {
   "cell_type": "markdown",
   "id": "3c36b4ac",
   "metadata": {},
   "source": [
    "### 8. Create a class called complex containing real and imaginary parts and then use it to check whether two objects are of the same type, whether their attributes are same and whether they are pointing to the same object"
   ]
  },
  {
   "cell_type": "code",
   "execution_count": 21,
   "id": "f77c661b",
   "metadata": {},
   "outputs": [
    {
     "name": "stdout",
     "output_type": "stream",
     "text": [
      "Two objects are of same Type \n"
     ]
    }
   ],
   "source": [
    "class Complex:\n",
    "    def __init__(self,r,i):\n",
    "        self._real = r\n",
    "        self._imaginary = i\n",
    "    def __eq__(self,other):\n",
    "        if self._imaginary == other._imaginary and self._real == other._real:\n",
    "            print(\"Two objects are of same Type \")\n",
    "        else:\n",
    "            print(\"Two objects are not Of same type\")\n",
    "\n",
    "n1 = Complex(2,'4j')\n",
    "n2 = Complex(2,'4j')\n",
    "(n1 == n2)"
   ]
  },
  {
   "cell_type": "markdown",
   "id": "057fa44b",
   "metadata": {},
   "source": [
    "### 9. Create a class called department with the attributes deptname and deptid. Modify the student class defined in Q.No. 3 such that it contains an object of department class. Name the new modified student class as student2."
   ]
  },
  {
   "cell_type": "code",
   "execution_count": 33,
   "id": "a992fa63",
   "metadata": {},
   "outputs": [
    {
     "name": "stdout",
     "output_type": "stream",
     "text": [
      "Deleting the object <__main__.Student2 object at 0x000002288E3CD790>\n",
      "Enter student Rollno:25\n",
      "Enter student name:rani\n",
      "Enter student branch:guj\n",
      "Enter Department name:sqc\n",
      "Enter Department ID:45\n",
      "Name of student : rani\n",
      "Rollno of student : 25\n",
      "Branch of student : guj\n",
      "Department Name: sqc\n",
      "Department ID: 45\n"
     ]
    }
   ],
   "source": [
    "class Department:\n",
    "    def set_dept(self):\n",
    "        self._name=input(\"Enter Department name:\")\n",
    "        self._id=int(input(\"Enter Department ID:\"))\n",
    "    def display_dept(self):\n",
    "        print(\"Department Name:\",self._name)\n",
    "        print(\"Department ID:\",self._id)\n",
    "class Student2:\n",
    "    def set_data(self):\n",
    "        self._rollno=int(input(\"Enter student Rollno:\"))\n",
    "        self._sname=input(\"Enter student name:\")\n",
    "        self._branch=input(\"Enter student branch:\")\n",
    "        self.dept=Department()\n",
    "        self.dept.set_dept()\n",
    "    def display_data(self):\n",
    "        print('Name of student :',self._sname)\n",
    "        print('Rollno of student :',self._rollno)\n",
    "        print('Branch of student :',self._branch)\n",
    "        self.dept.display_dept()\n",
    "    def __del__(self):\n",
    "        print(\"Deleting the object\",str(self))\n",
    "s=Student2()\n",
    "s.set_data()\n",
    "s.display_data()"
   ]
  },
  {
   "cell_type": "markdown",
   "id": "4ea5d700",
   "metadata": {},
   "source": [
    "### 10. Create a class called Person. From this class, inherit another class called student.N Assume suitable data members and member functions for these two classes. In both the classes, define the str function and demonstrate method overriding."
   ]
  },
  {
   "cell_type": "code",
   "execution_count": 32,
   "id": "83adb967",
   "metadata": {},
   "outputs": [
    {
     "name": "stdout",
     "output_type": "stream",
     "text": [
      "Name of the Person : RAVINA GODSE \n",
      "Age of the Person : 22\n",
      "Roll no. of student : 201\n",
      "Branch of student : MASTER OF SCIENCE\n"
     ]
    }
   ],
   "source": [
    "class Person:\n",
    "    def __init__(self,n,a):\n",
    "        self._name = n\n",
    "        self._age = a\n",
    "    def display(self):\n",
    "        print('Name of the Person :',self._name)\n",
    "        print('Age of the Person :',self._age)\n",
    "    def __str__(self):\n",
    "        return self._name + ' is ' + str(self._age) + ' years old'\n",
    "class Student3(Person):\n",
    "    def __init__(self,n,a,rollno,branch):\n",
    "        super().__init__(n,a)\n",
    "        self._rollno = rollno\n",
    "        self._branch = branch\n",
    "    def display_data(self):\n",
    "        print('Roll no. of student :',self._rollno)\n",
    "        print('Branch of student :',self._branch)\n",
    "s1 = Student3('RAVINA GODSE ',22,201,'MASTER OF SCIENCE')\n",
    "s1.display()\n",
    "s1.display_data()"
   ]
  },
  {
   "cell_type": "code",
   "execution_count": null,
   "id": "9655fe2f",
   "metadata": {},
   "outputs": [],
   "source": [
    "    "
   ]
  }
 ],
 "metadata": {
  "kernelspec": {
   "display_name": "Python 3",
   "language": "python",
   "name": "python3"
  },
  "language_info": {
   "codemirror_mode": {
    "name": "ipython",
    "version": 3
   },
   "file_extension": ".py",
   "mimetype": "text/x-python",
   "name": "python",
   "nbconvert_exporter": "python",
   "pygments_lexer": "ipython3",
   "version": "3.8.8"
  }
 },
 "nbformat": 4,
 "nbformat_minor": 5
}
