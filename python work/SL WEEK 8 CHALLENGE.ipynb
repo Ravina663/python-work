{
 "cells": [
  {
   "cell_type": "markdown",
   "id": "74b61e66",
   "metadata": {},
   "source": [
    "### 1.Write a program that accepts two integers and displays the result of dividing the first number by the second number. It should raise ZeroDivisionError if the denominator is zero."
   ]
  },
  {
   "cell_type": "code",
   "execution_count": null,
   "id": "1e164c36",
   "metadata": {},
   "outputs": [],
   "source": [
    "try:\n",
    "    num1 = int(input('First Number :'))\n",
    "    num2 = int(input(' Second Number :'))\n",
    "    result = num1/num2\n",
    "    print(result)\n",
    "except ValueError as v:\n",
    "    print(\"Invalid Input \")\n",
    "except ZeroDivisionError as z:\n",
    "    print(z)"
   ]
  },
  {
   "cell_type": "markdown",
   "id": "1a758015",
   "metadata": {},
   "source": [
    "### 2.Implement the above program with the help of Assertion"
   ]
  },
  {
   "cell_type": "code",
   "execution_count": null,
   "id": "836777ea",
   "metadata": {},
   "outputs": [],
   "source": [
    "n1 = int(input(\" First Number: \"))\n",
    "n2 = int(input(\"Second Number: \"))\n",
    "assert n2 != 0,'ZeroDivisionError'\n",
    "result = n1 / n2\n",
    "print(result)"
   ]
  },
  {
   "cell_type": "markdown",
   "id": "4f0bcc47",
   "metadata": {},
   "source": [
    "### 3.Write a program that accepts n positive integers as input and prints their square. If a negative number is entered, then raise ValueError exception and display a relevant error message and make an exit."
   ]
  },
  {
   "cell_type": "code",
   "execution_count": null,
   "id": "2e9df79d",
   "metadata": {},
   "outputs": [],
   "source": [
    "print('Start Squaring...')\n",
    "try:\n",
    "    l1=list()\n",
    "    while True:\n",
    "        n=int(input('Enter a number:'))\n",
    "        if n<0:\n",
    "            raise ValueError\n",
    "        else:\n",
    "            l1.append(n)\n",
    "except ValueError as v:\n",
    "    print('Entered value must be Positive')\n",
    "finally:\n",
    "    for i in l1:\n",
    "        print('Square of',i,'is',i**2)  "
   ]
  },
  {
   "cell_type": "markdown",
   "id": "47e0f621",
   "metadata": {},
   "source": [
    "### 4.Write a program that receives an integer as input and finds its factorial. If a non-integer input is entered, then report an error and accept the input again. Continue this process until correct input is entered."
   ]
  },
  {
   "cell_type": "code",
   "execution_count": null,
   "id": "a957c736",
   "metadata": {},
   "outputs": [],
   "source": [
    "try:\n",
    "    Factorial = 1\n",
    "    while True:\n",
    "        n = int(input('Enter a number:'))\n",
    "        for i in range(1,n+1):\n",
    "            Factorial = Factorial * i\n",
    "        print(\"The factorial of\",n,\"is\",Factorial)\n",
    "except:\n",
    "    print('You Entered a non integer number')"
   ]
  },
  {
   "cell_type": "markdown",
   "id": "804263c5",
   "metadata": {},
   "source": [
    "### 5.Create an iterator that returns numbers, starting with 1, and each sequence will increase by one (returning 1,2,3,4,5 etc.):"
   ]
  },
  {
   "cell_type": "code",
   "execution_count": 5,
   "id": "62b8eb77",
   "metadata": {},
   "outputs": [
    {
     "name": "stdout",
     "output_type": "stream",
     "text": [
      "Enter the limit:5\n",
      "Sequence from 1 to 5 is:\n",
      "1 2 3 4 5 "
     ]
    }
   ],
   "source": [
    "class Sequence:\n",
    "    def __init__(self,l):\n",
    "        self._limit = l\n",
    "        self._val = 1\n",
    "    def __iter__(self):\n",
    "        return self\n",
    "    def __next__(self):\n",
    "        if self._val > self._limit:\n",
    "            raise StopIteration\n",
    "        else:\n",
    "            return_val = self._val\n",
    "            self._val += 1\n",
    "            return return_val\n",
    "\n",
    "n=int(input('Enter the limit:'))\n",
    "print('Sequence from 1 to',n,'is:')\n",
    "for i in Sequence(n):\n",
    "    print(i,end=' ')"
   ]
  },
  {
   "cell_type": "markdown",
   "id": "a3868980",
   "metadata": {},
   "source": [
    "### 6.Write a program that implements iterator class called Prime and which prints prime numbers up to n."
   ]
  },
  {
   "cell_type": "code",
   "execution_count": 1,
   "id": "7b72a1ff",
   "metadata": {},
   "outputs": [
    {
     "name": "stdout",
     "output_type": "stream",
     "text": [
      "Enter the limit :5\n",
      "Prime numbers in given  limit : 2 3 5 "
     ]
    }
   ],
   "source": [
    "class Prime:\n",
    "    def __init__(self,l):\n",
    "        self._limit = l\n",
    "        self._val = 2\n",
    "    def __iter__(self):\n",
    "        return self\n",
    "    def __next__(self):\n",
    "        if self._val > self._limit :\n",
    "            raise StopIteration\n",
    "        else:\n",
    "            return_val = self._val\n",
    "            self._val += 1\n",
    "            return return_val\n",
    "\n",
    "num=int(input('Enter the limit :'))\n",
    "print(\"Prime numbers in given  limit :\",end=' ')\n",
    "for n in Prime(num):\n",
    "    for i in range(2,n):\n",
    "        if(n % i == 0):\n",
    "            break\n",
    "    else:\n",
    "            print(n,end=' ')"
   ]
  },
  {
   "cell_type": "markdown",
   "id": "fb5d52a5",
   "metadata": {},
   "source": [
    "### 7.Define a class, Circle, which takes two arguments when defined — a sequence and a number. The idea is that the object will then return elements the defined number of times. If the number is greater than the number of elements, then the sequence repeats as necessary."
   ]
  },
  {
   "cell_type": "code",
   "execution_count": 10,
   "id": "9aee8c56",
   "metadata": {},
   "outputs": [
    {
     "name": "stdout",
     "output_type": "stream",
     "text": [
      "[1, 2, 3, 4, 5, 6, 1, 2, 3, 4, 5, 6, 1, 2, 3, 4, 5, 6, 1, 2, 3, 4, 5, 6, 1, 2, 3, 4, 5, 6]\n"
     ]
    }
   ],
   "source": [
    "class Circle:\n",
    "    def __init__(self,sequence,number):\n",
    "        self._sequence = sequence\n",
    "        self._number = number\n",
    "        self._val = 0\n",
    "    def __iter__(self):\n",
    "        return Circle(self._sequence,self._number)\n",
    "    def __next__(self):\n",
    "        if self._val >= self._sequence:\n",
    "            raise StopIteration\n",
    "        else:\n",
    "            value = self._number[self._val % len(self._number)]\n",
    "            self._val += 1\n",
    "            return value\n",
    "num = Circle(30,[1,2,3,4,5,6])\n",
    "print(list(num))"
   ]
  },
  {
   "cell_type": "markdown",
   "id": "76b9291c",
   "metadata": {},
   "source": [
    "### 8.Write a Python program to demonstrate working of iterators using an example type that iterates from 10 to given value"
   ]
  },
  {
   "cell_type": "code",
   "execution_count": 12,
   "id": "6d0b3975",
   "metadata": {},
   "outputs": [
    {
     "name": "stdout",
     "output_type": "stream",
     "text": [
      "Enter the limit:20\n",
      "The numbers from 10 to 9 are:\n",
      "10\n",
      "11\n",
      "12\n",
      "13\n",
      "14\n",
      "15\n",
      "16\n",
      "17\n",
      "18\n",
      "19\n",
      "20\n"
     ]
    }
   ],
   "source": [
    "class Iter:\n",
    "    def __init__(self,l):\n",
    "        self._limit = l\n",
    "        self._val = 10\n",
    "    def __iter__(self):\n",
    "        return self\n",
    "    def __next__(self):\n",
    "        if self._val > self._limit:\n",
    "            raise StopIteration\n",
    "        else:\n",
    "            return_val=self._val\n",
    "            self._val += 1\n",
    "            return return_val\n",
    "num = int(input('Enter the limit:'))\n",
    "print('The numbers from 10 to',n,'are:')\n",
    "for i in Iter(num):\n",
    "    print(i,end='\\n')"
   ]
  },
  {
   "cell_type": "markdown",
   "id": "3dbae607",
   "metadata": {},
   "source": [
    "### 9.Write a program to illustrate the concept of multiple decorators"
   ]
  },
  {
   "cell_type": "code",
   "execution_count": 19,
   "id": "f4da541c",
   "metadata": {},
   "outputs": [
    {
     "name": "stdout",
     "output_type": "stream",
     "text": [
      "************************************************************\n",
      "&&&&&&&&&&&&&&&&&&&&&&&&&&&&&&&&&&&&&&&&&&&&&&&&&&\n",
      "multiple decorators\n",
      "##############################\n",
      "**********\n"
     ]
    }
   ],
   "source": [
    "def star(func):\n",
    "    def inner(*args,**kwargs):\n",
    "        print('*'*60)\n",
    "        func(*args,**kwargs)\n",
    "        print('*'*10)\n",
    "    return inner\n",
    "def percent(func):\n",
    "    def inner(*args,**kwargs):\n",
    "        print('&'*50)\n",
    "        func(*args,**kwargs)\n",
    "        print('#'*30)\n",
    "    return inner\n",
    "@star\n",
    "@percent\n",
    "def printer(msg):\n",
    "    print(msg)\n",
    "printer(\"multiple decorators\")"
   ]
  },
  {
   "cell_type": "markdown",
   "id": "03423e29",
   "metadata": {},
   "source": [
    "### 10.Write a decorator called timer that calculates the time required to execute a function. Its wrapper function called calculates should take all the parameters that are passed to the decorated function."
   ]
  },
  {
   "cell_type": "code",
   "execution_count": 4,
   "id": "758c818f",
   "metadata": {},
   "outputs": [
    {
     "name": "stdout",
     "output_type": "stream",
     "text": [
      "Execution time :::        0.0000037000secs\n",
      "The factorial is : 720\n"
     ]
    }
   ],
   "source": [
    "import time\n",
    "def timer(fun):\n",
    "    def calculate(*args,**kwargs):\n",
    "        start_time=time.perf_counter()\n",
    "        value=fun(*args,**kwargs)\n",
    "        end_time=time.perf_counter()\n",
    "        run_time=end_time-start_time\n",
    "        print('Execution time :::{0:20.10f}secs'.format(run_time))\n",
    "        return value\n",
    "    return calculate\n",
    "\n",
    "@timer\n",
    "def factorial(n):\n",
    "    fact=1\n",
    "    for i in range(n):\n",
    "        fact=fact*(i+1)\n",
    "    return fact\n",
    "\n",
    "print('The factorial is :',factorial(6))"
   ]
  },
  {
   "cell_type": "code",
   "execution_count": null,
   "id": "8514417e",
   "metadata": {},
   "outputs": [],
   "source": []
  }
 ],
 "metadata": {
  "kernelspec": {
   "display_name": "Python 3",
   "language": "python",
   "name": "python3"
  },
  "language_info": {
   "codemirror_mode": {
    "name": "ipython",
    "version": 3
   },
   "file_extension": ".py",
   "mimetype": "text/x-python",
   "name": "python",
   "nbconvert_exporter": "python",
   "pygments_lexer": "ipython3",
   "version": "3.8.8"
  }
 },
 "nbformat": 4,
 "nbformat_minor": 5
}
