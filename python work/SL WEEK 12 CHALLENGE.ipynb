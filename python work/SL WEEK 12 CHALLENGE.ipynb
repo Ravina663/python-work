{
 "cells": [
  {
   "cell_type": "markdown",
   "id": "86c069a9",
   "metadata": {},
   "source": [
    "### 1. Create a database called temp_db. Open a cursor to this newly created database."
   ]
  },
  {
   "cell_type": "code",
   "execution_count": 1,
   "id": "f440ed67",
   "metadata": {},
   "outputs": [],
   "source": [
    "import sqlite3"
   ]
  },
  {
   "cell_type": "code",
   "execution_count": 2,
   "id": "3bba3936",
   "metadata": {},
   "outputs": [],
   "source": [
    "\n",
    "conn = sqlite3.connect('temp_db.db')\n",
    "cur = conn.cursor()"
   ]
  },
  {
   "cell_type": "markdown",
   "id": "255417e9",
   "metadata": {},
   "source": [
    "### 2. In the database temp_db created in Q.No.1, create a table called emp with the attributes empno, ename, salary and deptno\\"
   ]
  },
  {
   "cell_type": "code",
   "execution_count": 3,
   "id": "5d1969ea",
   "metadata": {},
   "outputs": [
    {
     "data": {
      "text/plain": [
       "<sqlite3.Cursor at 0x1c3929ccf80>"
      ]
     },
     "execution_count": 3,
     "metadata": {},
     "output_type": "execute_result"
    }
   ],
   "source": [
    "conn = sqlite3.connect('temp_db.db')\n",
    "cur = conn.cursor()\n",
    "cur.execute('CREATE TABLE IF NOT EXISTS emp(empno INTEGER,ename TEXT,salary INTEGER,deptno INTEGER)')"
   ]
  },
  {
   "cell_type": "markdown",
   "id": "072ef128",
   "metadata": {},
   "source": [
    "### 3. In the emp table created in Q.No. 2, insert any five records."
   ]
  },
  {
   "cell_type": "code",
   "execution_count": 4,
   "id": "5e33a6d6",
   "metadata": {},
   "outputs": [],
   "source": [
    "def insert(e,n,s,d):\n",
    "    conn = sqlite3.connect('temp_db.db')\n",
    "    cur = conn.cursor()\n",
    "    cur.execute('INSERT INTO emp values(?,?,?,?)',(e,n,s,d))\n",
    "    conn.commit()\n",
    "    conn.close()"
   ]
  },
  {
   "cell_type": "code",
   "execution_count": 5,
   "id": "dedbfa7f",
   "metadata": {},
   "outputs": [],
   "source": [
    "insert(101,'MONA',30000,10)\n",
    "insert(102,'SONA',35000,20)\n",
    "insert(103,'RAM',25000,30)\n",
    "insert(104,'SHAM',40000,40)\n",
    "insert(105,'DHAN',37000,50)"
   ]
  },
  {
   "cell_type": "markdown",
   "id": "f6ee8ead",
   "metadata": {},
   "source": [
    "### 4. From the emp table, display all the records."
   ]
  },
  {
   "cell_type": "code",
   "execution_count": 6,
   "id": "526550c7",
   "metadata": {},
   "outputs": [
    {
     "data": {
      "text/plain": [
       "[(101, 'MONA', 30000, 10),\n",
       " (102, 'SONA', 35000, 20),\n",
       " (103, 'RAM', 25000, 30),\n",
       " (104, 'SHAM', 40000, 40),\n",
       " (105, 'DHAN', 37000, 50),\n",
       " (101, 'MONA', 30000, 10),\n",
       " (102, 'SONA', 35000, 20),\n",
       " (103, 'RAM', 25000, 30),\n",
       " (104, 'SHAM', 40000, 40),\n",
       " (105, 'DHAN', 37000, 50),\n",
       " (101, 'MONA', 30000, 10),\n",
       " (102, 'SONA', 35000, 20),\n",
       " (103, 'RAM', 25000, 30),\n",
       " (104, 'SHAM', 40000, 40),\n",
       " (105, 'DHAN', 37000, 50)]"
      ]
     },
     "execution_count": 6,
     "metadata": {},
     "output_type": "execute_result"
    }
   ],
   "source": [
    "def Display():\n",
    "    cur.execute('SELECT * FROM emp')\n",
    "    record = cur.fetchall()\n",
    "    return record\n",
    "Display()"
   ]
  },
  {
   "cell_type": "markdown",
   "id": "71f20f48",
   "metadata": {},
   "source": [
    "### 5.From the emp table, display the records of only those employees whose salary is greater than 15000 and who belong to deptno 10"
   ]
  },
  {
   "cell_type": "code",
   "execution_count": 7,
   "id": "5fe5973e",
   "metadata": {},
   "outputs": [
    {
     "data": {
      "text/plain": [
       "[(101, 'MONA', 30000, 10), (101, 'MONA', 30000, 10), (101, 'MONA', 30000, 10)]"
      ]
     },
     "execution_count": 7,
     "metadata": {},
     "output_type": "execute_result"
    }
   ],
   "source": [
    "import sqlite3\n",
    "def Display1():\n",
    "    cur.execute('SELECT * FROM emp WHERE salary > 15000 and deptno==10')\n",
    "    result = cur.fetchall()\n",
    "    conn.commit()\n",
    "    return result\n",
    "Display1()"
   ]
  },
  {
   "cell_type": "markdown",
   "id": "7d469f56",
   "metadata": {},
   "source": [
    "### 6.From the emp table, display the records of only those employees whose salary lies between 20000 and 25000 and who do not belong to the deptno 10"
   ]
  },
  {
   "cell_type": "code",
   "execution_count": 8,
   "id": "1cec22db",
   "metadata": {},
   "outputs": [
    {
     "data": {
      "text/plain": [
       "[(103, 'RAM', 25000, 30), (103, 'RAM', 25000, 30), (103, 'RAM', 25000, 30)]"
      ]
     },
     "execution_count": 8,
     "metadata": {},
     "output_type": "execute_result"
    }
   ],
   "source": [
    "import sqlite3\n",
    "def Display2():\n",
    "    cur.execute('SELECT * FROM emp WHERE salary BETWEEN 20000 and 25000 and deptno!=10')\n",
    "    result = cur.fetchall()\n",
    "    conn.commit()\n",
    "    return result\n",
    "Display2()"
   ]
  },
  {
   "cell_type": "markdown",
   "id": "0a46f98d",
   "metadata": {},
   "source": [
    "### 7.From the emp table, display the records of only those employees whose name begins with M."
   ]
  },
  {
   "cell_type": "code",
   "execution_count": 9,
   "id": "f6469e07",
   "metadata": {},
   "outputs": [
    {
     "data": {
      "text/plain": [
       "[(101, 'MONA', 30000, 10), (101, 'MONA', 30000, 10), (101, 'MONA', 30000, 10)]"
      ]
     },
     "execution_count": 9,
     "metadata": {},
     "output_type": "execute_result"
    }
   ],
   "source": [
    "def Display3():\n",
    "    conn = sqlite3.connect('temp_db.db')\n",
    "    cur = conn.cursor()\n",
    "    cur.execute('SELECT * FROM emp WHERE ename LIKE \"M%\" ORDER BY ename')\n",
    "    result = cur.fetchall()\n",
    "    conn.commit()\n",
    "    conn.close()\n",
    "    return result\n",
    "Display3()"
   ]
  },
  {
   "cell_type": "markdown",
   "id": "ef3f3f84",
   "metadata": {},
   "source": [
    "### 8.In the emp table, delete the records of those employees who belong to deptno 30"
   ]
  },
  {
   "cell_type": "code",
   "execution_count": 10,
   "id": "31029a82",
   "metadata": {},
   "outputs": [
    {
     "data": {
      "text/plain": [
       "[(101, 'MONA', 30000, 10),\n",
       " (102, 'SONA', 35000, 20),\n",
       " (104, 'SHAM', 40000, 40),\n",
       " (105, 'DHAN', 37000, 50),\n",
       " (101, 'MONA', 30000, 10),\n",
       " (102, 'SONA', 35000, 20),\n",
       " (104, 'SHAM', 40000, 40),\n",
       " (105, 'DHAN', 37000, 50),\n",
       " (101, 'MONA', 30000, 10),\n",
       " (102, 'SONA', 35000, 20),\n",
       " (104, 'SHAM', 40000, 40),\n",
       " (105, 'DHAN', 37000, 50)]"
      ]
     },
     "execution_count": 10,
     "metadata": {},
     "output_type": "execute_result"
    }
   ],
   "source": [
    "def Delete():\n",
    "    cur.execute('DELETE FROM emp WHERE deptno==30')\n",
    "Delete()\n",
    "Display()\n"
   ]
  },
  {
   "cell_type": "markdown",
   "id": "80fc0e66",
   "metadata": {},
   "source": [
    "### 9.In the emp table, update the salary of an employee by 10 % by accepting the empno from the user."
   ]
  },
  {
   "cell_type": "code",
   "execution_count": 11,
   "id": "1bfc706c",
   "metadata": {},
   "outputs": [],
   "source": [
    "def Update(e):\n",
    "    conn = sqlite3.connect('temp_db.db')\n",
    "    cur = conn.cursor()\n",
    "    cur.execute('UPDATE emp SET salary=salary+(salary*10/100) WHERE empno=?',(e,))\n",
    "    conn.commit()\n",
    "    conn.close()\n"
   ]
  },
  {
   "cell_type": "code",
   "execution_count": null,
   "id": "5a640b18",
   "metadata": {},
   "outputs": [],
   "source": [
    "Update(102)\n"
   ]
  },
  {
   "cell_type": "code",
   "execution_count": null,
   "id": "bc04c8d8",
   "metadata": {},
   "outputs": [],
   "source": []
  },
  {
   "cell_type": "markdown",
   "id": "f59527a4",
   "metadata": {},
   "source": [
    "### 10.Delete the emp table."
   ]
  },
  {
   "cell_type": "code",
   "execution_count": null,
   "id": "51b21e00",
   "metadata": {},
   "outputs": [],
   "source": [
    "def Delete1():\n",
    "    conn = sqlite3.connect('temp_db.db')\n",
    "    cur = conn.cursor()\n",
    "    cur.execute('DELETE FROM emp')\n",
    "    conn.commit()\n",
    "    conn.close()"
   ]
  },
  {
   "cell_type": "code",
   "execution_count": null,
   "id": "b67362b7",
   "metadata": {},
   "outputs": [],
   "source": [
    "Delete1()"
   ]
  },
  {
   "cell_type": "code",
   "execution_count": null,
   "id": "b1d0441b",
   "metadata": {},
   "outputs": [],
   "source": [
    "Display()"
   ]
  },
  {
   "cell_type": "code",
   "execution_count": null,
   "id": "ba30f6a5",
   "metadata": {},
   "outputs": [],
   "source": []
  }
 ],
 "metadata": {
  "kernelspec": {
   "display_name": "Python 3",
   "language": "python",
   "name": "python3"
  },
  "language_info": {
   "codemirror_mode": {
    "name": "ipython",
    "version": 3
   },
   "file_extension": ".py",
   "mimetype": "text/x-python",
   "name": "python",
   "nbconvert_exporter": "python",
   "pygments_lexer": "ipython3",
   "version": "3.8.8"
  }
 },
 "nbformat": 4,
 "nbformat_minor": 5
}
