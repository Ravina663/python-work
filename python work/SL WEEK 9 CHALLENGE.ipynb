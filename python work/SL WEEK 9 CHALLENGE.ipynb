{
 "cells": [
  {
   "cell_type": "markdown",
   "id": "92934d91",
   "metadata": {},
   "source": [
    "### 1.Create a data frame called DataFrame1. It should contain data about five employees. Each employee data consists of employee number, name, salary, department number and designation."
   ]
  },
  {
   "cell_type": "code",
   "execution_count": 1,
   "id": "976ef823",
   "metadata": {},
   "outputs": [
    {
     "data": {
      "text/html": [
       "<div>\n",
       "<style scoped>\n",
       "    .dataframe tbody tr th:only-of-type {\n",
       "        vertical-align: middle;\n",
       "    }\n",
       "\n",
       "    .dataframe tbody tr th {\n",
       "        vertical-align: top;\n",
       "    }\n",
       "\n",
       "    .dataframe thead th {\n",
       "        text-align: right;\n",
       "    }\n",
       "</style>\n",
       "<table border=\"1\" class=\"dataframe\">\n",
       "  <thead>\n",
       "    <tr style=\"text-align: right;\">\n",
       "      <th></th>\n",
       "      <th>0</th>\n",
       "      <th>1</th>\n",
       "      <th>2</th>\n",
       "      <th>3</th>\n",
       "      <th>4</th>\n",
       "    </tr>\n",
       "  </thead>\n",
       "  <tbody>\n",
       "    <tr>\n",
       "      <th>0</th>\n",
       "      <td>01</td>\n",
       "      <td>Agastya</td>\n",
       "      <td>30000</td>\n",
       "      <td>Computer</td>\n",
       "      <td>Data Scientist</td>\n",
       "    </tr>\n",
       "    <tr>\n",
       "      <th>1</th>\n",
       "      <td>02</td>\n",
       "      <td>vinza</td>\n",
       "      <td>35000</td>\n",
       "      <td>Marketing</td>\n",
       "      <td>junior marketing manager</td>\n",
       "    </tr>\n",
       "    <tr>\n",
       "      <th>2</th>\n",
       "      <td>03</td>\n",
       "      <td>sushant</td>\n",
       "      <td>40000</td>\n",
       "      <td>Project Lead</td>\n",
       "      <td>Project Head</td>\n",
       "    </tr>\n",
       "    <tr>\n",
       "      <th>3</th>\n",
       "      <td>04</td>\n",
       "      <td>Ravina</td>\n",
       "      <td>27000</td>\n",
       "      <td>Project Lead</td>\n",
       "      <td>Project Senior</td>\n",
       "    </tr>\n",
       "    <tr>\n",
       "      <th>4</th>\n",
       "      <td>05</td>\n",
       "      <td>sarika</td>\n",
       "      <td>43000</td>\n",
       "      <td>Disposal Team</td>\n",
       "      <td>Disposal Head</td>\n",
       "    </tr>\n",
       "  </tbody>\n",
       "</table>\n",
       "</div>"
      ],
      "text/plain": [
       "    0        1      2              3                         4\n",
       "0  01  Agastya  30000       Computer            Data Scientist\n",
       "1  02    vinza  35000      Marketing  junior marketing manager\n",
       "2  03  sushant  40000   Project Lead              Project Head\n",
       "3  04   Ravina  27000   Project Lead            Project Senior\n",
       "4  05   sarika  43000  Disposal Team             Disposal Head"
      ]
     },
     "execution_count": 1,
     "metadata": {},
     "output_type": "execute_result"
    }
   ],
   "source": [
    "import pandas as pd\n",
    "df = pd.DataFrame([['01','Agastya',30000,'Computer','Data Scientist'],\n",
    "['02','vinza',35000,'Marketing','junior marketing manager'],\n",
    "['03','sushant',40000,'Project Lead','Project Head'],\n",
    "['04','Ravina',27000,'Project Lead','Project Senior'],\n",
    "['05','sarika',43000,'Disposal Team','Disposal Head']])\n",
    "df"
   ]
  },
  {
   "cell_type": "markdown",
   "id": "4fc7321d",
   "metadata": {},
   "source": [
    "### 2.In the DataFrame1 defined in Q.No. 1, add appropriate column names to the columns. Find the mean of the salary in the DataFrame1."
   ]
  },
  {
   "cell_type": "code",
   "execution_count": 2,
   "id": "fca92d4b",
   "metadata": {},
   "outputs": [
    {
     "data": {
      "text/html": [
       "<div>\n",
       "<style scoped>\n",
       "    .dataframe tbody tr th:only-of-type {\n",
       "        vertical-align: middle;\n",
       "    }\n",
       "\n",
       "    .dataframe tbody tr th {\n",
       "        vertical-align: top;\n",
       "    }\n",
       "\n",
       "    .dataframe thead th {\n",
       "        text-align: right;\n",
       "    }\n",
       "</style>\n",
       "<table border=\"1\" class=\"dataframe\">\n",
       "  <thead>\n",
       "    <tr style=\"text-align: right;\">\n",
       "      <th></th>\n",
       "      <th>Employee_No</th>\n",
       "      <th>Name</th>\n",
       "      <th>Salary</th>\n",
       "      <th>Department_No</th>\n",
       "      <th>Designation</th>\n",
       "    </tr>\n",
       "  </thead>\n",
       "  <tbody>\n",
       "    <tr>\n",
       "      <th>0</th>\n",
       "      <td>01</td>\n",
       "      <td>Agastya</td>\n",
       "      <td>30000</td>\n",
       "      <td>Computer</td>\n",
       "      <td>Data Scientist</td>\n",
       "    </tr>\n",
       "    <tr>\n",
       "      <th>1</th>\n",
       "      <td>02</td>\n",
       "      <td>vinza</td>\n",
       "      <td>35000</td>\n",
       "      <td>Marketing</td>\n",
       "      <td>junior marketing manager</td>\n",
       "    </tr>\n",
       "    <tr>\n",
       "      <th>2</th>\n",
       "      <td>03</td>\n",
       "      <td>sushant</td>\n",
       "      <td>40000</td>\n",
       "      <td>Project Lead</td>\n",
       "      <td>Project Head</td>\n",
       "    </tr>\n",
       "    <tr>\n",
       "      <th>3</th>\n",
       "      <td>04</td>\n",
       "      <td>Ravina</td>\n",
       "      <td>27000</td>\n",
       "      <td>Project Lead</td>\n",
       "      <td>Project Senior</td>\n",
       "    </tr>\n",
       "    <tr>\n",
       "      <th>4</th>\n",
       "      <td>05</td>\n",
       "      <td>sarika</td>\n",
       "      <td>43000</td>\n",
       "      <td>Disposal Team</td>\n",
       "      <td>Disposal Head</td>\n",
       "    </tr>\n",
       "  </tbody>\n",
       "</table>\n",
       "</div>"
      ],
      "text/plain": [
       "  Employee_No     Name  Salary  Department_No               Designation\n",
       "0          01  Agastya   30000       Computer            Data Scientist\n",
       "1          02    vinza   35000      Marketing  junior marketing manager\n",
       "2          03  sushant   40000   Project Lead              Project Head\n",
       "3          04   Ravina   27000   Project Lead            Project Senior\n",
       "4          05   sarika   43000  Disposal Team             Disposal Head"
      ]
     },
     "execution_count": 2,
     "metadata": {},
     "output_type": "execute_result"
    }
   ],
   "source": [
    "import pandas as pd\n",
    "df = pd.DataFrame([['01','Agastya',30000,'Computer','Data Scientist'],\n",
    "['02','vinza',35000,'Marketing','junior marketing manager'],\n",
    "['03','sushant',40000,'Project Lead','Project Head'],\n",
    "['04','Ravina',27000,'Project Lead','Project Senior'],\n",
    "['05','sarika',43000,'Disposal Team','Disposal Head']],\n",
    "columns = ['Employee_No','Name','Salary','Department_No','Designation'])\n",
    "df"
   ]
  },
  {
   "cell_type": "code",
   "execution_count": 3,
   "id": "061948e2",
   "metadata": {},
   "outputs": [
    {
     "data": {
      "text/plain": [
       "35000.0"
      ]
     },
     "execution_count": 3,
     "metadata": {},
     "output_type": "execute_result"
    }
   ],
   "source": [
    "df.Salary.mean()"
   ]
  },
  {
   "cell_type": "markdown",
   "id": "936e5a8f",
   "metadata": {},
   "source": [
    "### 3.Create a dictionary called dept. In this dictionary, the columns are deptno, deptname and location. Create a data frame called DataFrame2 from the dictionary dept."
   ]
  },
  {
   "cell_type": "code",
   "execution_count": 4,
   "id": "b9ff166f",
   "metadata": {},
   "outputs": [
    {
     "data": {
      "text/html": [
       "<div>\n",
       "<style scoped>\n",
       "    .dataframe tbody tr th:only-of-type {\n",
       "        vertical-align: middle;\n",
       "    }\n",
       "\n",
       "    .dataframe tbody tr th {\n",
       "        vertical-align: top;\n",
       "    }\n",
       "\n",
       "    .dataframe thead th {\n",
       "        text-align: right;\n",
       "    }\n",
       "</style>\n",
       "<table border=\"1\" class=\"dataframe\">\n",
       "  <thead>\n",
       "    <tr style=\"text-align: right;\">\n",
       "      <th></th>\n",
       "      <th>deptno</th>\n",
       "      <th>deptname</th>\n",
       "      <th>location</th>\n",
       "    </tr>\n",
       "  </thead>\n",
       "  <tbody>\n",
       "    <tr>\n",
       "      <th>0</th>\n",
       "      <td>D1</td>\n",
       "      <td>HR</td>\n",
       "      <td>Mumbai</td>\n",
       "    </tr>\n",
       "    <tr>\n",
       "      <th>1</th>\n",
       "      <td>D2</td>\n",
       "      <td>Marketing</td>\n",
       "      <td>Pune</td>\n",
       "    </tr>\n",
       "    <tr>\n",
       "      <th>2</th>\n",
       "      <td>D3</td>\n",
       "      <td>Finance</td>\n",
       "      <td>kolkata</td>\n",
       "    </tr>\n",
       "  </tbody>\n",
       "</table>\n",
       "</div>"
      ],
      "text/plain": [
       "  deptno   deptname location\n",
       "0     D1         HR   Mumbai\n",
       "1     D2  Marketing     Pune\n",
       "2     D3    Finance  kolkata"
      ]
     },
     "execution_count": 4,
     "metadata": {},
     "output_type": "execute_result"
    }
   ],
   "source": [
    "import pandas as pd\n",
    "\n",
    "dept = {\"deptno\":('D1','D2','D3'),\n",
    "\"deptname\":('HR','Marketing','Finance'),\n",
    "\"location\":('Mumbai','Pune','kolkata')}\n",
    "DataFrame2 = pd.DataFrame(dept)\n",
    "DataFrame2"
   ]
  },
  {
   "cell_type": "code",
   "execution_count": null,
   "id": "994912ba",
   "metadata": {},
   "outputs": [],
   "source": []
  },
  {
   "cell_type": "markdown",
   "id": "0395e39e",
   "metadata": {},
   "source": [
    "### 4.Consider a sales.csv file with the following data:\n",
    "Dinesh  7800 6500 4590\n",
    "Mahesh 8900 3790\n",
    "Ramesh 10800 2300\n",
    "Suresh 5600 6790 2300\n",
    "Basha 7600 2300 2400\n",
    "### The data represents salesman name and sales in three regions: region1, region2 and region3. Load sles.csv into a data frame called DataFrame3. Give appropriate column names to the columns in DataFrame3. Display the contents of DataFrame3."
   ]
  },
  {
   "cell_type": "code",
   "execution_count": 5,
   "id": "05bdc84d",
   "metadata": {},
   "outputs": [
    {
     "data": {
      "text/html": [
       "<div>\n",
       "<style scoped>\n",
       "    .dataframe tbody tr th:only-of-type {\n",
       "        vertical-align: middle;\n",
       "    }\n",
       "\n",
       "    .dataframe tbody tr th {\n",
       "        vertical-align: top;\n",
       "    }\n",
       "\n",
       "    .dataframe thead th {\n",
       "        text-align: right;\n",
       "    }\n",
       "</style>\n",
       "<table border=\"1\" class=\"dataframe\">\n",
       "  <thead>\n",
       "    <tr style=\"text-align: right;\">\n",
       "      <th></th>\n",
       "      <th>Salesman</th>\n",
       "      <th>region1</th>\n",
       "      <th>region2</th>\n",
       "      <th>region3</th>\n",
       "    </tr>\n",
       "  </thead>\n",
       "  <tbody>\n",
       "    <tr>\n",
       "      <th>0</th>\n",
       "      <td>Dinesh</td>\n",
       "      <td>7800</td>\n",
       "      <td>6500</td>\n",
       "      <td>4590</td>\n",
       "    </tr>\n",
       "    <tr>\n",
       "      <th>1</th>\n",
       "      <td>Mahesh</td>\n",
       "      <td>8900</td>\n",
       "      <td></td>\n",
       "      <td>3790</td>\n",
       "    </tr>\n",
       "    <tr>\n",
       "      <th>2</th>\n",
       "      <td>Ramesh</td>\n",
       "      <td>10800</td>\n",
       "      <td>2300</td>\n",
       "      <td></td>\n",
       "    </tr>\n",
       "    <tr>\n",
       "      <th>3</th>\n",
       "      <td>Suresh</td>\n",
       "      <td>5600</td>\n",
       "      <td>6790</td>\n",
       "      <td>2300</td>\n",
       "    </tr>\n",
       "    <tr>\n",
       "      <th>4</th>\n",
       "      <td>Basha</td>\n",
       "      <td>7600</td>\n",
       "      <td>2300</td>\n",
       "      <td>2400</td>\n",
       "    </tr>\n",
       "  </tbody>\n",
       "</table>\n",
       "</div>"
      ],
      "text/plain": [
       "  Salesman  region1 region2 region3\n",
       "0   Dinesh     7800    6500    4590\n",
       "1   Mahesh     8900            3790\n",
       "2   Ramesh    10800    2300        \n",
       "3   Suresh     5600    6790    2300\n",
       "4    Basha     7600    2300    2400"
      ]
     },
     "execution_count": 5,
     "metadata": {},
     "output_type": "execute_result"
    }
   ],
   "source": [
    "import pandas as pd\n",
    "sale = pd.DataFrame({'Salesman':['Dinesh','Mahesh','Ramesh','Suresh','Basha'],\n",
    "                           'region1':[7800,8900,10800,5600,7600],\n",
    "                           'region2':[6500,'',2300,6790,2300],\n",
    "                           'region3':[4590,3790,'',2300,2400]})\n",
    "sale"
   ]
  },
  {
   "cell_type": "code",
   "execution_count": 6,
   "id": "30ccfba1",
   "metadata": {},
   "outputs": [],
   "source": [
    "sale.to_csv('sales.csv')"
   ]
  },
  {
   "cell_type": "code",
   "execution_count": 7,
   "id": "bb6b0a12",
   "metadata": {},
   "outputs": [
    {
     "data": {
      "text/html": [
       "<div>\n",
       "<style scoped>\n",
       "    .dataframe tbody tr th:only-of-type {\n",
       "        vertical-align: middle;\n",
       "    }\n",
       "\n",
       "    .dataframe tbody tr th {\n",
       "        vertical-align: top;\n",
       "    }\n",
       "\n",
       "    .dataframe thead th {\n",
       "        text-align: right;\n",
       "    }\n",
       "</style>\n",
       "<table border=\"1\" class=\"dataframe\">\n",
       "  <thead>\n",
       "    <tr style=\"text-align: right;\">\n",
       "      <th></th>\n",
       "      <th>Unnamed: 0</th>\n",
       "      <th>Salesman</th>\n",
       "      <th>region1</th>\n",
       "      <th>region2</th>\n",
       "      <th>region3</th>\n",
       "    </tr>\n",
       "  </thead>\n",
       "  <tbody>\n",
       "    <tr>\n",
       "      <th>0</th>\n",
       "      <td>0</td>\n",
       "      <td>Dinesh</td>\n",
       "      <td>7800</td>\n",
       "      <td>6500.0</td>\n",
       "      <td>4590.0</td>\n",
       "    </tr>\n",
       "    <tr>\n",
       "      <th>1</th>\n",
       "      <td>1</td>\n",
       "      <td>Mahesh</td>\n",
       "      <td>8900</td>\n",
       "      <td>NaN</td>\n",
       "      <td>3790.0</td>\n",
       "    </tr>\n",
       "    <tr>\n",
       "      <th>2</th>\n",
       "      <td>2</td>\n",
       "      <td>Ramesh</td>\n",
       "      <td>10800</td>\n",
       "      <td>2300.0</td>\n",
       "      <td>NaN</td>\n",
       "    </tr>\n",
       "    <tr>\n",
       "      <th>3</th>\n",
       "      <td>3</td>\n",
       "      <td>Suresh</td>\n",
       "      <td>5600</td>\n",
       "      <td>6790.0</td>\n",
       "      <td>2300.0</td>\n",
       "    </tr>\n",
       "    <tr>\n",
       "      <th>4</th>\n",
       "      <td>4</td>\n",
       "      <td>Basha</td>\n",
       "      <td>7600</td>\n",
       "      <td>2300.0</td>\n",
       "      <td>2400.0</td>\n",
       "    </tr>\n",
       "  </tbody>\n",
       "</table>\n",
       "</div>"
      ],
      "text/plain": [
       "   Unnamed: 0 Salesman  region1  region2  region3\n",
       "0           0   Dinesh     7800   6500.0   4590.0\n",
       "1           1   Mahesh     8900      NaN   3790.0\n",
       "2           2   Ramesh    10800   2300.0      NaN\n",
       "3           3   Suresh     5600   6790.0   2300.0\n",
       "4           4    Basha     7600   2300.0   2400.0"
      ]
     },
     "execution_count": 7,
     "metadata": {},
     "output_type": "execute_result"
    }
   ],
   "source": [
    "df3 = pd.read_csv('.\\sales.csv')\n",
    "\n",
    "df3"
   ]
  },
  {
   "cell_type": "markdown",
   "id": "4a397318",
   "metadata": {},
   "source": [
    "### 5.In this exercise, demonstrate different methods of handling missing data in data frames. For reference, consider the DataFrame3 created in Q.No. 4. In DataFrame3, do the following: fill missing values with zeroes, fill missing values with the mean of their respective column, drop the rows containing missing values, drop the columns containing missing values."
   ]
  },
  {
   "cell_type": "code",
   "execution_count": 8,
   "id": "3ea1c6dc",
   "metadata": {},
   "outputs": [
    {
     "data": {
      "text/html": [
       "<div>\n",
       "<style scoped>\n",
       "    .dataframe tbody tr th:only-of-type {\n",
       "        vertical-align: middle;\n",
       "    }\n",
       "\n",
       "    .dataframe tbody tr th {\n",
       "        vertical-align: top;\n",
       "    }\n",
       "\n",
       "    .dataframe thead th {\n",
       "        text-align: right;\n",
       "    }\n",
       "</style>\n",
       "<table border=\"1\" class=\"dataframe\">\n",
       "  <thead>\n",
       "    <tr style=\"text-align: right;\">\n",
       "      <th></th>\n",
       "      <th>Unnamed: 0</th>\n",
       "      <th>Salesman</th>\n",
       "      <th>region1</th>\n",
       "      <th>region2</th>\n",
       "      <th>region3</th>\n",
       "    </tr>\n",
       "  </thead>\n",
       "  <tbody>\n",
       "    <tr>\n",
       "      <th>0</th>\n",
       "      <td>0</td>\n",
       "      <td>Dinesh</td>\n",
       "      <td>7800</td>\n",
       "      <td>6500.0</td>\n",
       "      <td>4590.0</td>\n",
       "    </tr>\n",
       "    <tr>\n",
       "      <th>1</th>\n",
       "      <td>1</td>\n",
       "      <td>Mahesh</td>\n",
       "      <td>8900</td>\n",
       "      <td>0.0</td>\n",
       "      <td>3790.0</td>\n",
       "    </tr>\n",
       "    <tr>\n",
       "      <th>2</th>\n",
       "      <td>2</td>\n",
       "      <td>Ramesh</td>\n",
       "      <td>10800</td>\n",
       "      <td>2300.0</td>\n",
       "      <td>0.0</td>\n",
       "    </tr>\n",
       "    <tr>\n",
       "      <th>3</th>\n",
       "      <td>3</td>\n",
       "      <td>Suresh</td>\n",
       "      <td>5600</td>\n",
       "      <td>6790.0</td>\n",
       "      <td>2300.0</td>\n",
       "    </tr>\n",
       "    <tr>\n",
       "      <th>4</th>\n",
       "      <td>4</td>\n",
       "      <td>Basha</td>\n",
       "      <td>7600</td>\n",
       "      <td>2300.0</td>\n",
       "      <td>2400.0</td>\n",
       "    </tr>\n",
       "  </tbody>\n",
       "</table>\n",
       "</div>"
      ],
      "text/plain": [
       "   Unnamed: 0 Salesman  region1  region2  region3\n",
       "0           0   Dinesh     7800   6500.0   4590.0\n",
       "1           1   Mahesh     8900      0.0   3790.0\n",
       "2           2   Ramesh    10800   2300.0      0.0\n",
       "3           3   Suresh     5600   6790.0   2300.0\n",
       "4           4    Basha     7600   2300.0   2400.0"
      ]
     },
     "execution_count": 8,
     "metadata": {},
     "output_type": "execute_result"
    }
   ],
   "source": [
    "# Missing values with Zero\n",
    "df4 = df3.fillna(0)\n",
    "df4"
   ]
  },
  {
   "cell_type": "code",
   "execution_count": 9,
   "id": "1887cec0",
   "metadata": {},
   "outputs": [
    {
     "data": {
      "text/plain": [
       "0    6500.0\n",
       "1    4472.5\n",
       "2    2300.0\n",
       "3    6790.0\n",
       "4    2300.0\n",
       "Name: region2, dtype: float64"
      ]
     },
     "execution_count": 9,
     "metadata": {},
     "output_type": "execute_result"
    }
   ],
   "source": [
    "df5=df3['region2'].fillna(df3['region2'].mean())\n",
    "df5"
   ]
  },
  {
   "cell_type": "code",
   "execution_count": 10,
   "id": "79edb250",
   "metadata": {},
   "outputs": [
    {
     "data": {
      "text/plain": [
       "0    4590.0\n",
       "1    3790.0\n",
       "2    3270.0\n",
       "3    2300.0\n",
       "4    2400.0\n",
       "Name: region3, dtype: float64"
      ]
     },
     "execution_count": 10,
     "metadata": {},
     "output_type": "execute_result"
    }
   ],
   "source": [
    "df6=df3['region3'].fillna(df3['region3'].mean())\n",
    "df6"
   ]
  },
  {
   "cell_type": "code",
   "execution_count": 11,
   "id": "bcb04c23",
   "metadata": {},
   "outputs": [
    {
     "data": {
      "text/html": [
       "<div>\n",
       "<style scoped>\n",
       "    .dataframe tbody tr th:only-of-type {\n",
       "        vertical-align: middle;\n",
       "    }\n",
       "\n",
       "    .dataframe tbody tr th {\n",
       "        vertical-align: top;\n",
       "    }\n",
       "\n",
       "    .dataframe thead th {\n",
       "        text-align: right;\n",
       "    }\n",
       "</style>\n",
       "<table border=\"1\" class=\"dataframe\">\n",
       "  <thead>\n",
       "    <tr style=\"text-align: right;\">\n",
       "      <th></th>\n",
       "      <th>Unnamed: 0</th>\n",
       "      <th>Salesman</th>\n",
       "      <th>region1</th>\n",
       "      <th>region2</th>\n",
       "      <th>region3</th>\n",
       "    </tr>\n",
       "  </thead>\n",
       "  <tbody>\n",
       "    <tr>\n",
       "      <th>0</th>\n",
       "      <td>0</td>\n",
       "      <td>Dinesh</td>\n",
       "      <td>7800</td>\n",
       "      <td>6500.0</td>\n",
       "      <td>4590.0</td>\n",
       "    </tr>\n",
       "    <tr>\n",
       "      <th>3</th>\n",
       "      <td>3</td>\n",
       "      <td>Suresh</td>\n",
       "      <td>5600</td>\n",
       "      <td>6790.0</td>\n",
       "      <td>2300.0</td>\n",
       "    </tr>\n",
       "    <tr>\n",
       "      <th>4</th>\n",
       "      <td>4</td>\n",
       "      <td>Basha</td>\n",
       "      <td>7600</td>\n",
       "      <td>2300.0</td>\n",
       "      <td>2400.0</td>\n",
       "    </tr>\n",
       "  </tbody>\n",
       "</table>\n",
       "</div>"
      ],
      "text/plain": [
       "   Unnamed: 0 Salesman  region1  region2  region3\n",
       "0           0   Dinesh     7800   6500.0   4590.0\n",
       "3           3   Suresh     5600   6790.0   2300.0\n",
       "4           4    Basha     7600   2300.0   2400.0"
      ]
     },
     "execution_count": 11,
     "metadata": {},
     "output_type": "execute_result"
    }
   ],
   "source": [
    "df7=df3.dropna()\n",
    "df7"
   ]
  },
  {
   "cell_type": "code",
   "execution_count": 12,
   "id": "c0b5c2e5",
   "metadata": {},
   "outputs": [
    {
     "data": {
      "text/html": [
       "<div>\n",
       "<style scoped>\n",
       "    .dataframe tbody tr th:only-of-type {\n",
       "        vertical-align: middle;\n",
       "    }\n",
       "\n",
       "    .dataframe tbody tr th {\n",
       "        vertical-align: top;\n",
       "    }\n",
       "\n",
       "    .dataframe thead th {\n",
       "        text-align: right;\n",
       "    }\n",
       "</style>\n",
       "<table border=\"1\" class=\"dataframe\">\n",
       "  <thead>\n",
       "    <tr style=\"text-align: right;\">\n",
       "      <th></th>\n",
       "      <th>Unnamed: 0</th>\n",
       "      <th>Salesman</th>\n",
       "      <th>region1</th>\n",
       "    </tr>\n",
       "  </thead>\n",
       "  <tbody>\n",
       "    <tr>\n",
       "      <th>0</th>\n",
       "      <td>0</td>\n",
       "      <td>Dinesh</td>\n",
       "      <td>7800</td>\n",
       "    </tr>\n",
       "    <tr>\n",
       "      <th>1</th>\n",
       "      <td>1</td>\n",
       "      <td>Mahesh</td>\n",
       "      <td>8900</td>\n",
       "    </tr>\n",
       "    <tr>\n",
       "      <th>2</th>\n",
       "      <td>2</td>\n",
       "      <td>Ramesh</td>\n",
       "      <td>10800</td>\n",
       "    </tr>\n",
       "    <tr>\n",
       "      <th>3</th>\n",
       "      <td>3</td>\n",
       "      <td>Suresh</td>\n",
       "      <td>5600</td>\n",
       "    </tr>\n",
       "    <tr>\n",
       "      <th>4</th>\n",
       "      <td>4</td>\n",
       "      <td>Basha</td>\n",
       "      <td>7600</td>\n",
       "    </tr>\n",
       "  </tbody>\n",
       "</table>\n",
       "</div>"
      ],
      "text/plain": [
       "   Unnamed: 0 Salesman  region1\n",
       "0           0   Dinesh     7800\n",
       "1           1   Mahesh     8900\n",
       "2           2   Ramesh    10800\n",
       "3           3   Suresh     5600\n",
       "4           4    Basha     7600"
      ]
     },
     "execution_count": 12,
     "metadata": {},
     "output_type": "execute_result"
    }
   ],
   "source": [
    "df3.dropna(axis=1)"
   ]
  },
  {
   "cell_type": "markdown",
   "id": "c7593e0d",
   "metadata": {},
   "source": [
    "### 6.From DataFrame1 create a new data frame called DataFrame4. In DataFrame4, set the employee number as an in-place index. Display data from the 3rd row and 4th column using label-based and integer-based indexing."
   ]
  },
  {
   "cell_type": "code",
   "execution_count": 13,
   "id": "85f8a5d6",
   "metadata": {},
   "outputs": [
    {
     "data": {
      "text/html": [
       "<div>\n",
       "<style scoped>\n",
       "    .dataframe tbody tr th:only-of-type {\n",
       "        vertical-align: middle;\n",
       "    }\n",
       "\n",
       "    .dataframe tbody tr th {\n",
       "        vertical-align: top;\n",
       "    }\n",
       "\n",
       "    .dataframe thead th {\n",
       "        text-align: right;\n",
       "    }\n",
       "</style>\n",
       "<table border=\"1\" class=\"dataframe\">\n",
       "  <thead>\n",
       "    <tr style=\"text-align: right;\">\n",
       "      <th></th>\n",
       "      <th>Employee_No</th>\n",
       "      <th>Name</th>\n",
       "      <th>Salary</th>\n",
       "      <th>Department_No</th>\n",
       "      <th>Designation</th>\n",
       "    </tr>\n",
       "  </thead>\n",
       "  <tbody>\n",
       "    <tr>\n",
       "      <th>0</th>\n",
       "      <td>01</td>\n",
       "      <td>Agastya</td>\n",
       "      <td>30000</td>\n",
       "      <td>Computer</td>\n",
       "      <td>Data Scientist</td>\n",
       "    </tr>\n",
       "    <tr>\n",
       "      <th>1</th>\n",
       "      <td>02</td>\n",
       "      <td>vinza</td>\n",
       "      <td>35000</td>\n",
       "      <td>Marketing</td>\n",
       "      <td>junior marketing manager</td>\n",
       "    </tr>\n",
       "    <tr>\n",
       "      <th>2</th>\n",
       "      <td>03</td>\n",
       "      <td>sushant</td>\n",
       "      <td>40000</td>\n",
       "      <td>Project Lead</td>\n",
       "      <td>Project Head</td>\n",
       "    </tr>\n",
       "    <tr>\n",
       "      <th>3</th>\n",
       "      <td>04</td>\n",
       "      <td>Ravina</td>\n",
       "      <td>27000</td>\n",
       "      <td>Project Lead</td>\n",
       "      <td>Project Senior</td>\n",
       "    </tr>\n",
       "    <tr>\n",
       "      <th>4</th>\n",
       "      <td>05</td>\n",
       "      <td>sarika</td>\n",
       "      <td>43000</td>\n",
       "      <td>Disposal Team</td>\n",
       "      <td>Disposal Head</td>\n",
       "    </tr>\n",
       "  </tbody>\n",
       "</table>\n",
       "</div>"
      ],
      "text/plain": [
       "  Employee_No     Name  Salary  Department_No               Designation\n",
       "0          01  Agastya   30000       Computer            Data Scientist\n",
       "1          02    vinza   35000      Marketing  junior marketing manager\n",
       "2          03  sushant   40000   Project Lead              Project Head\n",
       "3          04   Ravina   27000   Project Lead            Project Senior\n",
       "4          05   sarika   43000  Disposal Team             Disposal Head"
      ]
     },
     "execution_count": 13,
     "metadata": {},
     "output_type": "execute_result"
    }
   ],
   "source": [
    "df"
   ]
  },
  {
   "cell_type": "code",
   "execution_count": 14,
   "id": "60a8b4a2",
   "metadata": {},
   "outputs": [
    {
     "data": {
      "text/html": [
       "<div>\n",
       "<style scoped>\n",
       "    .dataframe tbody tr th:only-of-type {\n",
       "        vertical-align: middle;\n",
       "    }\n",
       "\n",
       "    .dataframe tbody tr th {\n",
       "        vertical-align: top;\n",
       "    }\n",
       "\n",
       "    .dataframe thead th {\n",
       "        text-align: right;\n",
       "    }\n",
       "</style>\n",
       "<table border=\"1\" class=\"dataframe\">\n",
       "  <thead>\n",
       "    <tr style=\"text-align: right;\">\n",
       "      <th></th>\n",
       "      <th>Name</th>\n",
       "      <th>Salary</th>\n",
       "      <th>Department_No</th>\n",
       "      <th>Designation</th>\n",
       "    </tr>\n",
       "    <tr>\n",
       "      <th>Employee_No</th>\n",
       "      <th></th>\n",
       "      <th></th>\n",
       "      <th></th>\n",
       "      <th></th>\n",
       "    </tr>\n",
       "  </thead>\n",
       "  <tbody>\n",
       "    <tr>\n",
       "      <th>01</th>\n",
       "      <td>Agastya</td>\n",
       "      <td>30000</td>\n",
       "      <td>Computer</td>\n",
       "      <td>Data Scientist</td>\n",
       "    </tr>\n",
       "    <tr>\n",
       "      <th>02</th>\n",
       "      <td>vinza</td>\n",
       "      <td>35000</td>\n",
       "      <td>Marketing</td>\n",
       "      <td>junior marketing manager</td>\n",
       "    </tr>\n",
       "    <tr>\n",
       "      <th>03</th>\n",
       "      <td>sushant</td>\n",
       "      <td>40000</td>\n",
       "      <td>Project Lead</td>\n",
       "      <td>Project Head</td>\n",
       "    </tr>\n",
       "    <tr>\n",
       "      <th>04</th>\n",
       "      <td>Ravina</td>\n",
       "      <td>27000</td>\n",
       "      <td>Project Lead</td>\n",
       "      <td>Project Senior</td>\n",
       "    </tr>\n",
       "    <tr>\n",
       "      <th>05</th>\n",
       "      <td>sarika</td>\n",
       "      <td>43000</td>\n",
       "      <td>Disposal Team</td>\n",
       "      <td>Disposal Head</td>\n",
       "    </tr>\n",
       "  </tbody>\n",
       "</table>\n",
       "</div>"
      ],
      "text/plain": [
       "                Name  Salary  Department_No               Designation\n",
       "Employee_No                                                          \n",
       "01           Agastya   30000       Computer            Data Scientist\n",
       "02             vinza   35000      Marketing  junior marketing manager\n",
       "03           sushant   40000   Project Lead              Project Head\n",
       "04            Ravina   27000   Project Lead            Project Senior\n",
       "05            sarika   43000  Disposal Team             Disposal Head"
      ]
     },
     "execution_count": 14,
     "metadata": {},
     "output_type": "execute_result"
    }
   ],
   "source": [
    "df1=df.set_index('Employee_No')\n",
    "df1"
   ]
  },
  {
   "cell_type": "code",
   "execution_count": 15,
   "id": "0ec1bb0f",
   "metadata": {},
   "outputs": [
    {
     "data": {
      "text/plain": [
       "'Data Scientist'"
      ]
     },
     "execution_count": 15,
     "metadata": {},
     "output_type": "execute_result"
    }
   ],
   "source": [
    "df1.loc['01','Designation']"
   ]
  },
  {
   "cell_type": "code",
   "execution_count": 16,
   "id": "c81b606a",
   "metadata": {},
   "outputs": [
    {
     "data": {
      "text/plain": [
       "'Project Head'"
      ]
     },
     "execution_count": 16,
     "metadata": {},
     "output_type": "execute_result"
    }
   ],
   "source": [
    "df1.iloc[2,3]"
   ]
  },
  {
   "cell_type": "markdown",
   "id": "299a02ed",
   "metadata": {},
   "source": [
    "### 7.In DataFrame3 created in Q.No. 5, find the salesmen whose sales are greater than 7000 in region1 but less than 3000 in region2"
   ]
  },
  {
   "cell_type": "code",
   "execution_count": 17,
   "id": "1c917e26",
   "metadata": {},
   "outputs": [
    {
     "data": {
      "text/html": [
       "<div>\n",
       "<style scoped>\n",
       "    .dataframe tbody tr th:only-of-type {\n",
       "        vertical-align: middle;\n",
       "    }\n",
       "\n",
       "    .dataframe tbody tr th {\n",
       "        vertical-align: top;\n",
       "    }\n",
       "\n",
       "    .dataframe thead th {\n",
       "        text-align: right;\n",
       "    }\n",
       "</style>\n",
       "<table border=\"1\" class=\"dataframe\">\n",
       "  <thead>\n",
       "    <tr style=\"text-align: right;\">\n",
       "      <th></th>\n",
       "      <th>Unnamed: 0</th>\n",
       "      <th>Salesman</th>\n",
       "      <th>region1</th>\n",
       "      <th>region2</th>\n",
       "      <th>region3</th>\n",
       "    </tr>\n",
       "  </thead>\n",
       "  <tbody>\n",
       "    <tr>\n",
       "      <th>0</th>\n",
       "      <td>0</td>\n",
       "      <td>Dinesh</td>\n",
       "      <td>7800</td>\n",
       "      <td>6500.0</td>\n",
       "      <td>4590.0</td>\n",
       "    </tr>\n",
       "    <tr>\n",
       "      <th>1</th>\n",
       "      <td>1</td>\n",
       "      <td>Mahesh</td>\n",
       "      <td>8900</td>\n",
       "      <td>NaN</td>\n",
       "      <td>3790.0</td>\n",
       "    </tr>\n",
       "    <tr>\n",
       "      <th>2</th>\n",
       "      <td>2</td>\n",
       "      <td>Ramesh</td>\n",
       "      <td>10800</td>\n",
       "      <td>2300.0</td>\n",
       "      <td>NaN</td>\n",
       "    </tr>\n",
       "    <tr>\n",
       "      <th>3</th>\n",
       "      <td>3</td>\n",
       "      <td>Suresh</td>\n",
       "      <td>5600</td>\n",
       "      <td>6790.0</td>\n",
       "      <td>2300.0</td>\n",
       "    </tr>\n",
       "    <tr>\n",
       "      <th>4</th>\n",
       "      <td>4</td>\n",
       "      <td>Basha</td>\n",
       "      <td>7600</td>\n",
       "      <td>2300.0</td>\n",
       "      <td>2400.0</td>\n",
       "    </tr>\n",
       "  </tbody>\n",
       "</table>\n",
       "</div>"
      ],
      "text/plain": [
       "   Unnamed: 0 Salesman  region1  region2  region3\n",
       "0           0   Dinesh     7800   6500.0   4590.0\n",
       "1           1   Mahesh     8900      NaN   3790.0\n",
       "2           2   Ramesh    10800   2300.0      NaN\n",
       "3           3   Suresh     5600   6790.0   2300.0\n",
       "4           4    Basha     7600   2300.0   2400.0"
      ]
     },
     "execution_count": 17,
     "metadata": {},
     "output_type": "execute_result"
    }
   ],
   "source": [
    "df3"
   ]
  },
  {
   "cell_type": "code",
   "execution_count": 18,
   "id": "5549e78c",
   "metadata": {},
   "outputs": [
    {
     "data": {
      "text/html": [
       "<div>\n",
       "<style scoped>\n",
       "    .dataframe tbody tr th:only-of-type {\n",
       "        vertical-align: middle;\n",
       "    }\n",
       "\n",
       "    .dataframe tbody tr th {\n",
       "        vertical-align: top;\n",
       "    }\n",
       "\n",
       "    .dataframe thead th {\n",
       "        text-align: right;\n",
       "    }\n",
       "</style>\n",
       "<table border=\"1\" class=\"dataframe\">\n",
       "  <thead>\n",
       "    <tr style=\"text-align: right;\">\n",
       "      <th></th>\n",
       "      <th>Unnamed: 0</th>\n",
       "      <th>Salesman</th>\n",
       "      <th>region1</th>\n",
       "      <th>region2</th>\n",
       "      <th>region3</th>\n",
       "    </tr>\n",
       "  </thead>\n",
       "  <tbody>\n",
       "    <tr>\n",
       "      <th>2</th>\n",
       "      <td>2</td>\n",
       "      <td>Ramesh</td>\n",
       "      <td>10800</td>\n",
       "      <td>2300.0</td>\n",
       "      <td>NaN</td>\n",
       "    </tr>\n",
       "    <tr>\n",
       "      <th>4</th>\n",
       "      <td>4</td>\n",
       "      <td>Basha</td>\n",
       "      <td>7600</td>\n",
       "      <td>2300.0</td>\n",
       "      <td>2400.0</td>\n",
       "    </tr>\n",
       "  </tbody>\n",
       "</table>\n",
       "</div>"
      ],
      "text/plain": [
       "   Unnamed: 0 Salesman  region1  region2  region3\n",
       "2           2   Ramesh    10800   2300.0      NaN\n",
       "4           4    Basha     7600   2300.0   2400.0"
      ]
     },
     "execution_count": 18,
     "metadata": {},
     "output_type": "execute_result"
    }
   ],
   "source": [
    "df3[(df3['region1'] > 7000) & (df3['region2'] < 3000)]"
   ]
  },
  {
   "cell_type": "markdown",
   "id": "98923536",
   "metadata": {},
   "source": [
    "### 8.In DataFrame1 created in Q. No. 1, find the employees with the highest salary in each department. Use the group by clause and the max() function. Similarly, in DataFrame3 created in Q. No. 5, find the salesman with the highest amount of sales for each region."
   ]
  },
  {
   "cell_type": "code",
   "execution_count": 19,
   "id": "cafd2a57",
   "metadata": {},
   "outputs": [
    {
     "data": {
      "text/html": [
       "<div>\n",
       "<style scoped>\n",
       "    .dataframe tbody tr th:only-of-type {\n",
       "        vertical-align: middle;\n",
       "    }\n",
       "\n",
       "    .dataframe tbody tr th {\n",
       "        vertical-align: top;\n",
       "    }\n",
       "\n",
       "    .dataframe thead th {\n",
       "        text-align: right;\n",
       "    }\n",
       "</style>\n",
       "<table border=\"1\" class=\"dataframe\">\n",
       "  <thead>\n",
       "    <tr style=\"text-align: right;\">\n",
       "      <th></th>\n",
       "      <th>Employee_No</th>\n",
       "      <th>Name</th>\n",
       "      <th>Salary</th>\n",
       "      <th>Department_No</th>\n",
       "      <th>Designation</th>\n",
       "    </tr>\n",
       "  </thead>\n",
       "  <tbody>\n",
       "    <tr>\n",
       "      <th>0</th>\n",
       "      <td>01</td>\n",
       "      <td>Agastya</td>\n",
       "      <td>30000</td>\n",
       "      <td>Computer</td>\n",
       "      <td>Data Scientist</td>\n",
       "    </tr>\n",
       "    <tr>\n",
       "      <th>1</th>\n",
       "      <td>02</td>\n",
       "      <td>vinza</td>\n",
       "      <td>35000</td>\n",
       "      <td>Marketing</td>\n",
       "      <td>junior marketing manager</td>\n",
       "    </tr>\n",
       "    <tr>\n",
       "      <th>2</th>\n",
       "      <td>03</td>\n",
       "      <td>sushant</td>\n",
       "      <td>40000</td>\n",
       "      <td>Project Lead</td>\n",
       "      <td>Project Head</td>\n",
       "    </tr>\n",
       "    <tr>\n",
       "      <th>3</th>\n",
       "      <td>04</td>\n",
       "      <td>Ravina</td>\n",
       "      <td>27000</td>\n",
       "      <td>Project Lead</td>\n",
       "      <td>Project Senior</td>\n",
       "    </tr>\n",
       "    <tr>\n",
       "      <th>4</th>\n",
       "      <td>05</td>\n",
       "      <td>sarika</td>\n",
       "      <td>43000</td>\n",
       "      <td>Disposal Team</td>\n",
       "      <td>Disposal Head</td>\n",
       "    </tr>\n",
       "  </tbody>\n",
       "</table>\n",
       "</div>"
      ],
      "text/plain": [
       "  Employee_No     Name  Salary  Department_No               Designation\n",
       "0          01  Agastya   30000       Computer            Data Scientist\n",
       "1          02    vinza   35000      Marketing  junior marketing manager\n",
       "2          03  sushant   40000   Project Lead              Project Head\n",
       "3          04   Ravina   27000   Project Lead            Project Senior\n",
       "4          05   sarika   43000  Disposal Team             Disposal Head"
      ]
     },
     "execution_count": 19,
     "metadata": {},
     "output_type": "execute_result"
    }
   ],
   "source": [
    "df"
   ]
  },
  {
   "cell_type": "code",
   "execution_count": 20,
   "id": "1f5bf254",
   "metadata": {},
   "outputs": [
    {
     "data": {
      "text/plain": [
       "Department_No\n",
       "Computer         30000\n",
       "Disposal Team    43000\n",
       "Marketing        35000\n",
       "Project Lead     40000\n",
       "Name: Salary, dtype: int64"
      ]
     },
     "execution_count": 20,
     "metadata": {},
     "output_type": "execute_result"
    }
   ],
   "source": [
    "df.groupby(['Department_No']).max()['Salary']"
   ]
  },
  {
   "cell_type": "code",
   "execution_count": 21,
   "id": "79f1c124",
   "metadata": {},
   "outputs": [
    {
     "data": {
      "text/html": [
       "<div>\n",
       "<style scoped>\n",
       "    .dataframe tbody tr th:only-of-type {\n",
       "        vertical-align: middle;\n",
       "    }\n",
       "\n",
       "    .dataframe tbody tr th {\n",
       "        vertical-align: top;\n",
       "    }\n",
       "\n",
       "    .dataframe thead th {\n",
       "        text-align: right;\n",
       "    }\n",
       "</style>\n",
       "<table border=\"1\" class=\"dataframe\">\n",
       "  <thead>\n",
       "    <tr style=\"text-align: right;\">\n",
       "      <th></th>\n",
       "      <th>Unnamed: 0</th>\n",
       "      <th>Salesman</th>\n",
       "      <th>region1</th>\n",
       "      <th>region2</th>\n",
       "      <th>region3</th>\n",
       "    </tr>\n",
       "  </thead>\n",
       "  <tbody>\n",
       "    <tr>\n",
       "      <th>0</th>\n",
       "      <td>0</td>\n",
       "      <td>Dinesh</td>\n",
       "      <td>7800</td>\n",
       "      <td>6500.0</td>\n",
       "      <td>4590.0</td>\n",
       "    </tr>\n",
       "    <tr>\n",
       "      <th>1</th>\n",
       "      <td>1</td>\n",
       "      <td>Mahesh</td>\n",
       "      <td>8900</td>\n",
       "      <td>NaN</td>\n",
       "      <td>3790.0</td>\n",
       "    </tr>\n",
       "    <tr>\n",
       "      <th>2</th>\n",
       "      <td>2</td>\n",
       "      <td>Ramesh</td>\n",
       "      <td>10800</td>\n",
       "      <td>2300.0</td>\n",
       "      <td>NaN</td>\n",
       "    </tr>\n",
       "    <tr>\n",
       "      <th>3</th>\n",
       "      <td>3</td>\n",
       "      <td>Suresh</td>\n",
       "      <td>5600</td>\n",
       "      <td>6790.0</td>\n",
       "      <td>2300.0</td>\n",
       "    </tr>\n",
       "    <tr>\n",
       "      <th>4</th>\n",
       "      <td>4</td>\n",
       "      <td>Basha</td>\n",
       "      <td>7600</td>\n",
       "      <td>2300.0</td>\n",
       "      <td>2400.0</td>\n",
       "    </tr>\n",
       "  </tbody>\n",
       "</table>\n",
       "</div>"
      ],
      "text/plain": [
       "   Unnamed: 0 Salesman  region1  region2  region3\n",
       "0           0   Dinesh     7800   6500.0   4590.0\n",
       "1           1   Mahesh     8900      NaN   3790.0\n",
       "2           2   Ramesh    10800   2300.0      NaN\n",
       "3           3   Suresh     5600   6790.0   2300.0\n",
       "4           4    Basha     7600   2300.0   2400.0"
      ]
     },
     "execution_count": 21,
     "metadata": {},
     "output_type": "execute_result"
    }
   ],
   "source": [
    " df3"
   ]
  },
  {
   "cell_type": "code",
   "execution_count": 22,
   "id": "efc15f2d",
   "metadata": {},
   "outputs": [
    {
     "data": {
      "text/html": [
       "<div>\n",
       "<style scoped>\n",
       "    .dataframe tbody tr th:only-of-type {\n",
       "        vertical-align: middle;\n",
       "    }\n",
       "\n",
       "    .dataframe tbody tr th {\n",
       "        vertical-align: top;\n",
       "    }\n",
       "\n",
       "    .dataframe thead th {\n",
       "        text-align: right;\n",
       "    }\n",
       "</style>\n",
       "<table border=\"1\" class=\"dataframe\">\n",
       "  <thead>\n",
       "    <tr style=\"text-align: right;\">\n",
       "      <th></th>\n",
       "      <th>Salesman</th>\n",
       "      <th>region1</th>\n",
       "      <th>region2</th>\n",
       "      <th>region3</th>\n",
       "    </tr>\n",
       "  </thead>\n",
       "  <tbody>\n",
       "    <tr>\n",
       "      <th>0</th>\n",
       "      <td>Dinesh</td>\n",
       "      <td>7800</td>\n",
       "      <td>6500.0</td>\n",
       "      <td>4590.0</td>\n",
       "    </tr>\n",
       "    <tr>\n",
       "      <th>1</th>\n",
       "      <td>Mahesh</td>\n",
       "      <td>8900</td>\n",
       "      <td>NaN</td>\n",
       "      <td>3790.0</td>\n",
       "    </tr>\n",
       "    <tr>\n",
       "      <th>2</th>\n",
       "      <td>Ramesh</td>\n",
       "      <td>10800</td>\n",
       "      <td>2300.0</td>\n",
       "      <td>NaN</td>\n",
       "    </tr>\n",
       "    <tr>\n",
       "      <th>3</th>\n",
       "      <td>Suresh</td>\n",
       "      <td>5600</td>\n",
       "      <td>6790.0</td>\n",
       "      <td>2300.0</td>\n",
       "    </tr>\n",
       "    <tr>\n",
       "      <th>4</th>\n",
       "      <td>Basha</td>\n",
       "      <td>7600</td>\n",
       "      <td>2300.0</td>\n",
       "      <td>2400.0</td>\n",
       "    </tr>\n",
       "  </tbody>\n",
       "</table>\n",
       "</div>"
      ],
      "text/plain": [
       "  Salesman  region1  region2  region3\n",
       "0   Dinesh     7800   6500.0   4590.0\n",
       "1   Mahesh     8900      NaN   3790.0\n",
       "2   Ramesh    10800   2300.0      NaN\n",
       "3   Suresh     5600   6790.0   2300.0\n",
       "4    Basha     7600   2300.0   2400.0"
      ]
     },
     "execution_count": 22,
     "metadata": {},
     "output_type": "execute_result"
    }
   ],
   "source": [
    "df4=df3.drop(['Unnamed: 0'],axis=1)\n",
    "df4"
   ]
  },
  {
   "cell_type": "code",
   "execution_count": 23,
   "id": "3366db93",
   "metadata": {},
   "outputs": [
    {
     "data": {
      "text/plain": [
       "Salesman\n",
       "Basha      7600\n",
       "Dinesh     7800\n",
       "Mahesh     8900\n",
       "Ramesh    10800\n",
       "Suresh     5600\n",
       "Name: region1, dtype: int64"
      ]
     },
     "execution_count": 23,
     "metadata": {},
     "output_type": "execute_result"
    }
   ],
   "source": [
    "df4.groupby(['Salesman']).max()['region1']"
   ]
  },
  {
   "cell_type": "code",
   "execution_count": 24,
   "id": "63580667",
   "metadata": {},
   "outputs": [
    {
     "data": {
      "text/plain": [
       "Salesman\n",
       "Basha     2300.0\n",
       "Dinesh    6500.0\n",
       "Mahesh       NaN\n",
       "Ramesh    2300.0\n",
       "Suresh    6790.0\n",
       "Name: region2, dtype: float64"
      ]
     },
     "execution_count": 24,
     "metadata": {},
     "output_type": "execute_result"
    }
   ],
   "source": [
    "df4.groupby(['Salesman']).max()['region2']"
   ]
  },
  {
   "cell_type": "code",
   "execution_count": 25,
   "id": "d877e0f6",
   "metadata": {},
   "outputs": [
    {
     "data": {
      "text/plain": [
       "Salesman\n",
       "Basha     2400.0\n",
       "Dinesh    4590.0\n",
       "Mahesh    3790.0\n",
       "Ramesh       NaN\n",
       "Suresh    2300.0\n",
       "Name: region3, dtype: float64"
      ]
     },
     "execution_count": 25,
     "metadata": {},
     "output_type": "execute_result"
    }
   ],
   "source": [
    "df4.groupby(['Salesman']).max()['region3']"
   ]
  },
  {
   "cell_type": "markdown",
   "id": "a0f8a2fb",
   "metadata": {},
   "source": [
    "### 9.In DataFrame1 created in Q. No. 1, add a new column called Address. In this new column, set the value as ‘Chennai’ for all the existing rows"
   ]
  },
  {
   "cell_type": "code",
   "execution_count": 26,
   "id": "69751e35",
   "metadata": {},
   "outputs": [
    {
     "data": {
      "text/html": [
       "<div>\n",
       "<style scoped>\n",
       "    .dataframe tbody tr th:only-of-type {\n",
       "        vertical-align: middle;\n",
       "    }\n",
       "\n",
       "    .dataframe tbody tr th {\n",
       "        vertical-align: top;\n",
       "    }\n",
       "\n",
       "    .dataframe thead th {\n",
       "        text-align: right;\n",
       "    }\n",
       "</style>\n",
       "<table border=\"1\" class=\"dataframe\">\n",
       "  <thead>\n",
       "    <tr style=\"text-align: right;\">\n",
       "      <th></th>\n",
       "      <th>Employee_No</th>\n",
       "      <th>Name</th>\n",
       "      <th>Salary</th>\n",
       "      <th>Department_No</th>\n",
       "      <th>Designation</th>\n",
       "      <th>Address</th>\n",
       "    </tr>\n",
       "  </thead>\n",
       "  <tbody>\n",
       "    <tr>\n",
       "      <th>0</th>\n",
       "      <td>01</td>\n",
       "      <td>Agastya</td>\n",
       "      <td>30000</td>\n",
       "      <td>Computer</td>\n",
       "      <td>Data Scientist</td>\n",
       "      <td>Chennai</td>\n",
       "    </tr>\n",
       "    <tr>\n",
       "      <th>1</th>\n",
       "      <td>02</td>\n",
       "      <td>vinza</td>\n",
       "      <td>35000</td>\n",
       "      <td>Marketing</td>\n",
       "      <td>junior marketing manager</td>\n",
       "      <td>Chennai</td>\n",
       "    </tr>\n",
       "    <tr>\n",
       "      <th>2</th>\n",
       "      <td>03</td>\n",
       "      <td>sushant</td>\n",
       "      <td>40000</td>\n",
       "      <td>Project Lead</td>\n",
       "      <td>Project Head</td>\n",
       "      <td>Chennai</td>\n",
       "    </tr>\n",
       "    <tr>\n",
       "      <th>3</th>\n",
       "      <td>04</td>\n",
       "      <td>Ravina</td>\n",
       "      <td>27000</td>\n",
       "      <td>Project Lead</td>\n",
       "      <td>Project Senior</td>\n",
       "      <td>Chennai</td>\n",
       "    </tr>\n",
       "    <tr>\n",
       "      <th>4</th>\n",
       "      <td>05</td>\n",
       "      <td>sarika</td>\n",
       "      <td>43000</td>\n",
       "      <td>Disposal Team</td>\n",
       "      <td>Disposal Head</td>\n",
       "      <td>Chennai</td>\n",
       "    </tr>\n",
       "  </tbody>\n",
       "</table>\n",
       "</div>"
      ],
      "text/plain": [
       "  Employee_No     Name  Salary  Department_No               Designation  \\\n",
       "0          01  Agastya   30000       Computer            Data Scientist   \n",
       "1          02    vinza   35000      Marketing  junior marketing manager   \n",
       "2          03  sushant   40000   Project Lead              Project Head   \n",
       "3          04   Ravina   27000   Project Lead            Project Senior   \n",
       "4          05   sarika   43000  Disposal Team             Disposal Head   \n",
       "\n",
       "   Address  \n",
       "0  Chennai  \n",
       "1  Chennai  \n",
       "2  Chennai  \n",
       "3  Chennai  \n",
       "4  Chennai  "
      ]
     },
     "execution_count": 26,
     "metadata": {},
     "output_type": "execute_result"
    }
   ],
   "source": [
    "df['Address'] =df.shape[0]*['Chennai']\n",
    "df"
   ]
  },
  {
   "cell_type": "markdown",
   "id": "1ab034dc",
   "metadata": {},
   "source": [
    "### 10.Create a line graph and bar chart to visualize the two data frames, DataFrame1 and DataFrame3."
   ]
  },
  {
   "cell_type": "code",
   "execution_count": 27,
   "id": "625a0062",
   "metadata": {},
   "outputs": [
    {
     "data": {
      "text/plain": [
       "<AxesSubplot:xlabel='Name'>"
      ]
     },
     "execution_count": 27,
     "metadata": {},
     "output_type": "execute_result"
    },
    {
     "data": {
      "image/png": "[encoded data removed]",
      "text/plain": [
       "<Figure size 432x288 with 1 Axes>"
      ]
     },
     "metadata": {
      "needs_background": "light"
     },
     "output_type": "display_data"
    }
   ],
   "source": [
    "import pandas as pd\n",
    "df_vis = pd.DataFrame(df.groupby(['Name']).mean()['Salary'])\n",
    "df_vis.plot()"
   ]
  },
  {
   "cell_type": "code",
   "execution_count": 28,
   "id": "eebe33e9",
   "metadata": {},
   "outputs": [
    {
     "data": {
      "text/plain": [
       "<AxesSubplot:>"
      ]
     },
     "execution_count": 28,
     "metadata": {},
     "output_type": "execute_result"
    },
    {
     "data": {
      "image/png": "[encoded data removed]",
      "text/plain": [
       "<Figure size 432x288 with 1 Axes>"
      ]
     },
     "metadata": {
      "needs_background": "light"
     },
     "output_type": "display_data"
    }
   ],
   "source": [
    "df4.plot.bar()"
   ]
  },
  {
   "cell_type": "code",
   "execution_count": 29,
   "id": "f3a890b3",
   "metadata": {},
   "outputs": [
    {
     "data": {
      "text/plain": [
       "<AxesSubplot:>"
      ]
     },
     "execution_count": 29,
     "metadata": {},
     "output_type": "execute_result"
    },
    {
     "data": {
      "image/png": "[encoded data removed]",
      "text/plain": [
       "<Figure size 432x288 with 1 Axes>"
      ]
     },
     "metadata": {
      "needs_background": "light"
     },
     "output_type": "display_data"
    }
   ],
   "source": [
    "df.plot.bar()"
   ]
  },
  {
   "cell_type": "code",
   "execution_count": null,
   "id": "e7a53f50",
   "metadata": {},
   "outputs": [],
   "source": []
  }
 ],
 "metadata": {
  "kernelspec": {
   "display_name": "Python 3",
   "language": "python",
   "name": "python3"
  },
  "language_info": {
   "codemirror_mode": {
    "name": "ipython",
    "version": 3
   },
   "file_extension": ".py",
   "mimetype": "text/x-python",
   "name": "python",
   "nbconvert_exporter": "python",
   "pygments_lexer": "ipython3",
   "version": "3.8.8"
  }
 },
 "nbformat": 4,
 "nbformat_minor": 5
}
