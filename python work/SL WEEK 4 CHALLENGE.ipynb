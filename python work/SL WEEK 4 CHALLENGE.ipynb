{
 "cells": [
  {
   "cell_type": "markdown",
   "id": "fa341b34",
   "metadata": {},
   "source": [
    "### 1. A set contains names which begin either with A or with B. Write a program to separate the names into two sets, one containing names beginning with A and the other containing names beginning with B"
   ]
  },
  {
   "cell_type": "code",
   "execution_count": 1,
   "id": "b8942e32",
   "metadata": {},
   "outputs": [
    {
     "name": "stdout",
     "output_type": "stream",
     "text": [
      "Names Are : {'Arya', 'Arohi', 'Bindu', 'Barkha', 'Banku', 'Anan', 'Adam', 'Bittu'}\n",
      "Set A contains : {'Arya', 'Anan', 'Adam', 'Arohi'}\n",
      "Set B contains : {'Bindu', 'Bittu', 'Banku', 'Barkha'}\n"
     ]
    }
   ],
   "source": [
    "A = set()\n",
    "B = set()\n",
    "names = {'Arohi','Banku','Arya','Bittu','Adam','Bindu','Anan','Barkha'}\n",
    "print('Names Are :',names)\n",
    "for i in names:\n",
    "    if i.startswith(\"A\"):\n",
    "        A.add(i)\n",
    "    elif i.startswith(\"B\"):\n",
    "        B.add(i)\n",
    "print('Set A contains :',A)\n",
    "print('Set B contains :',B)"
   ]
  },
  {
   "cell_type": "markdown",
   "id": "04ef03af",
   "metadata": {},
   "source": [
    "### 2. Create a list of tuples. Each tuple should contain an item and its price in float. Write a program to print each item and its price in a proper format"
   ]
  },
  {
   "cell_type": "code",
   "execution_count": 2,
   "id": "e545e934",
   "metadata": {},
   "outputs": [
    {
     "name": "stdout",
     "output_type": "stream",
     "text": [
      "[('egg', 4.5), ('machis', 1.5), ('apple', 30.5)]\n",
      "[('apple', 30.5), ('egg', 4.5), ('machis', 1.5)]\n"
     ]
    }
   ],
   "source": [
    "supply = [(\"egg\",4.5),(\"machis\",1.5),(\"apple\",30.5)]\n",
    "print(supply)\n",
    "supply.sort()\n",
    "print(supply)"
   ]
  },
  {
   "cell_type": "code",
   "execution_count": null,
   "id": "0523ca0c",
   "metadata": {},
   "outputs": [],
   "source": []
  },
  {
   "cell_type": "markdown",
   "id": "9a2ee53b",
   "metadata": {},
   "source": [
    "### 3. Write a program that reads integers from the user and stores them in a list. Your program should continue reading values until the user enters 0. Then it should display all of the values entered by the user (except for the 0) in order from smallest to largest, with one value appearing on each line. Use either the sort method or the sorted function to sort the list."
   ]
  },
  {
   "cell_type": "code",
   "execution_count": 3,
   "id": "ef965d7f",
   "metadata": {},
   "outputs": [
    {
     "name": "stdout",
     "output_type": "stream",
     "text": [
      "45\n",
      "45\n",
      "78\n",
      "0\n",
      "45\n",
      "45\n",
      "78\n",
      "[45, 45, 78]\n"
     ]
    }
   ],
   "source": [
    "a = list()\n",
    "while True:\n",
    "    val = int(input())\n",
    "    if val != 0:\n",
    "        a.append(val)\n",
    "    else:\n",
    "        a.sort()\n",
    "        for i in a:\n",
    "            print(i)\n",
    "        break\n",
    "print(a)"
   ]
  },
  {
   "cell_type": "markdown",
   "id": "40fe3353",
   "metadata": {},
   "source": [
    "### 4. Write a program to read a list of numbers from the user and remove the two largest and two smallest values from it. Display the list with the values removed, followed by the original list. Your program should generate an appropriate error message if the user enters less than 5 values"
   ]
  },
  {
   "cell_type": "code",
   "execution_count": 4,
   "id": "bdea4dff",
   "metadata": {},
   "outputs": [
    {
     "name": "stdout",
     "output_type": "stream",
     "text": [
      "Enter numbers separated by spaces:10 20 30 40 50\n",
      "[30]\n",
      "[10, 20, 30, 40, 50]\n"
     ]
    }
   ],
   "source": [
    "n=input(\"Enter numbers separated by spaces:\")\n",
    "number_str = n.split()\n",
    "num=[]\n",
    "rv=[]\n",
    "if len(number_str)>4:\n",
    "    for s in number_str:\n",
    "        num.append(int(s))\n",
    "    rv=num.copy()\n",
    "    del_list=num.copy()\n",
    "    del_list.sort()\n",
    "    for s in del_list[0:2]+del_list[-2:]:\n",
    "        rv.remove(s)\n",
    "    print(rv)\n",
    "    print(num)\n",
    "else:\n",
    "    print(\"You entered less than five values\")"
   ]
  },
  {
   "cell_type": "markdown",
   "id": "82ec81d8",
   "metadata": {},
   "source": [
    "### 5. In this exercise, you will create a program that reads words from the user until the user enters a blank line. After the user enters a blank line your program should display each word entered by the user exactly once.96\n",
    "2"
   ]
  },
  {
   "cell_type": "code",
   "execution_count": 5,
   "id": "39df79a1",
   "metadata": {},
   "outputs": [
    {
     "name": "stdout",
     "output_type": "stream",
     "text": [
      "Enter a word (blank line to quit): hgf\n",
      "Enter a word (blank line to quit): \n",
      "hgf\n"
     ]
    }
   ],
   "source": [
    "words = []\n",
    "word = input(\"Enter a word (blank line to quit): \")\n",
    "while word != \"\":\n",
    "    if word not in words:\n",
    "        words.append(word)\n",
    "        word = input(\"Enter a word (blank line to quit): \")\n",
    "for word in words:\n",
    "    print(word)"
   ]
  },
  {
   "cell_type": "raw",
   "id": "e6461ecd",
   "metadata": {},
   "source": []
  },
  {
   "cell_type": "markdown",
   "id": "8b9a9df4",
   "metadata": {},
   "source": [
    "### 6. Write a program that reads numbers from the user until a 0 is entered. Your program should display the average of all of the values entered by the user. Then the program should display all of the below average values, followed by all of the average values (if any), followed by all of the above average values. An appropriate label should be displayed before each list of values.\n"
   ]
  },
  {
   "cell_type": "code",
   "execution_count": 8,
   "id": "8ef163f0",
   "metadata": {},
   "outputs": [
    {
     "name": "stdout",
     "output_type": "stream",
     "text": [
      "Input Some Integers To Calculate Their Average. Input 0 To Exit.\n",
      "10\n",
      "20\n",
      "30\n",
      "40\n",
      "50\n",
      "0\n",
      "Average of the above numbers are:  30.0\n"
     ]
    }
   ],
   "source": [
    "print(\"Input Some Integers To Calculate Their Average. Input 0 To Exit.\")\n",
    "count = 0\n",
    "sum = 0.0\n",
    "number = 1\n",
    "while number != 0:\n",
    "    number = int(input(\"\"))\n",
    "    sum += number\n",
    "    count += 1\n",
    "if count == 0:\n",
    "    print(\"Input some numbers\")\n",
    "else:\n",
    "    print(\"Average of the above numbers are: \", sum / (count-1))\n",
    "\n"
   ]
  },
  {
   "cell_type": "markdown",
   "id": "cb416f0d",
   "metadata": {},
   "source": [
    "### 7. Create a program that determines and displays the number of unique characters in a string entered by the user. For example, Hello World! has 9 unique characters while zzz has only one unique character. Use a dictionary to solve this problem.\n",
    "\n"
   ]
  },
  {
   "cell_type": "code",
   "execution_count": 11,
   "id": "3741b970",
   "metadata": {},
   "outputs": [
    {
     "name": "stdout",
     "output_type": "stream",
     "text": [
      "Enter a text string: yug\n",
      "The number of unique characters in that string are  3\n"
     ]
    }
   ],
   "source": [
    "letterDict = {}\n",
    "text = input(\"Enter a text string: \")\n",
    "for letter in text:\n",
    "    if letter.isalpha():\n",
    "        letterDict[letter] = 1\n",
    "    \n",
    "print(\"The number of unique characters in that string are \", len(letterDict))\n"
   ]
  },
  {
   "cell_type": "code",
   "execution_count": null,
   "id": "541d3f0b",
   "metadata": {},
   "outputs": [],
   "source": []
  },
  {
   "cell_type": "markdown",
   "id": "0a2a4a2b",
   "metadata": {},
   "source": [
    "### 8. Two words are anagrams if they contain all of the same letters, but in a different order. For example, “evil” and “live” are anagrams because each contains one e, one i, one l, and one v. Create a program that reads two strings from the user, determines whether or not they are anagrams, and reports the result."
   ]
  },
  {
   "cell_type": "code",
   "execution_count": 12,
   "id": "96c031ef",
   "metadata": {},
   "outputs": [
    {
     "name": "stdout",
     "output_type": "stream",
     "text": [
      "enter a first word :yug\n",
      "enter a second word :guy\n",
      "These Strings Are Anagrams\n"
     ]
    }
   ],
   "source": [
    "str1 = list(input('enter a first word :'))\n",
    "str2 = list(input('enter a second word :'))\n",
    "result = 'These Strings Are Anagrams'\n",
    "for i in str1:\n",
    "    try:\n",
    "        str2.remove(i)\n",
    "    except ValueError:\n",
    "        result = print('These strings are not Anagrams')\n",
    "if len(str2) > 0:\n",
    "    result = 'These strings are not Anagrams'\n",
    "print(result)"
   ]
  },
  {
   "cell_type": "markdown",
   "id": "93f29e8b",
   "metadata": {},
   "source": [
    "### 9. An integer, n, is said to be perfect when the sum of all of the proper divisors of n is equal to n. For example, 28 is a perfect number because its proper divisors are 1, 2, 4, 7 and 14, and 1 + 2 + 4 + 7 + 14 = 28. Write a program that determines whether or not a positive integer is perfect. Your program will accept a number from the user. If that number is a perfect number then your program will display true. Otherwise it will display false."
   ]
  },
  {
   "cell_type": "code",
   "execution_count": 13,
   "id": "142c9f43",
   "metadata": {},
   "outputs": [
    {
     "name": "stdout",
     "output_type": "stream",
     "text": [
      "Enter Any Number: 85\n",
      "False\n",
      "The Number 85 is not a Perfect number\n"
     ]
    }
   ],
   "source": [
    "num = int(input(\"Enter Any Number: \"))\n",
    "sum_1 = 0\n",
    "for i in range(1, num):\n",
    "    if(num % i == 0):\n",
    "        sum_1 = sum_1 + i\n",
    "if (sum_1 == num):\n",
    "    print(True)\n",
    "    print('The Number',num,'Is A Perfect Number')\n",
    "    \n",
    "else:\n",
    "    print(False)\n",
    "    print('The Number',num,\"is not a Perfect number\")"
   ]
  },
  {
   "cell_type": "code",
   "execution_count": null,
   "id": "adfa3590",
   "metadata": {},
   "outputs": [],
   "source": []
  },
  {
   "cell_type": "markdown",
   "id": "6d2afb7b",
   "metadata": {},
   "source": [
    "### 10. Write a program that finds all of the keys in a dictionary that map to a specific value. The program will take the value to search for as its input. It will display a (possibly empty) list of keys from the dictionary that map to the provided value.\n",
    "\n",
    " "
   ]
  },
  {
   "cell_type": "code",
   "execution_count": 14,
   "id": "a2d00a8a",
   "metadata": {},
   "outputs": [
    {
     "name": "stdout",
     "output_type": "stream",
     "text": [
      "State : Capitals - {'Maharashtra': 'Mumbai', 'Telangana': 'Hyderabad', 'Tamilnadu': 'Chennai'}\n",
      "The Capital Of Telangana : Hyderabad\n",
      "Keys Of Dictionary : dict_keys(['Maharashtra', 'Telangana', 'Tamilnadu'])\n",
      "['Maharashtra', 'Telangana', 'Tamilnadu']\n",
      "Values Of Dictionary : dict_values(['Mumbai', 'Hyderabad', 'Chennai'])\n",
      "Items In Dictionary : dict_items([('Maharashtra', 'Mumbai'), ('Telangana', 'Hyderabad'), ('Tamilnadu', 'Chennai')])\n"
     ]
    }
   ],
   "source": [
    "mydict = {\"Maharashtra\":\"Mumbai\", \"Telangana\":\"Hyderabad\", \"Tamilnadu\":\"Chennai\",}\n",
    "print (\"State : Capitals -\", mydict)\n",
    "print('The Capital Of Telangana :',mydict['Telangana'])\n",
    "print('Keys Of Dictionary :',mydict.keys())\n",
    "print(list(mydict.keys()))\n",
    "print('Values Of Dictionary :',mydict.values())\n",
    "print('Items In Dictionary :',mydict.items())"
   ]
  },
  {
   "cell_type": "code",
   "execution_count": null,
   "id": "0d0bcd10",
   "metadata": {},
   "outputs": [],
   "source": []
  }
 ],
 "metadata": {
  "kernelspec": {
   "display_name": "Python 3",
   "language": "python",
   "name": "python3"
  },
  "language_info": {
   "codemirror_mode": {
    "name": "ipython",
    "version": 3
   },
   "file_extension": ".py",
   "mimetype": "text/x-python",
   "name": "python",
   "nbconvert_exporter": "python",
   "pygments_lexer": "ipython3",
   "version": "3.8.8"
  }
 },
 "nbformat": 4,
 "nbformat_minor": 5
}
